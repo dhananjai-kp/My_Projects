{
 "cells": [
  {
   "cell_type": "markdown",
   "metadata": {},
   "source": [
    "https://ga.greyatom.com/learn/competitions/stayze-rent-predcition-tr1\n"
   ]
  },
  {
   "cell_type": "markdown",
   "metadata": {},
   "source": [
    "##  Stayze Hackathon   Team NewShoots\n",
    "\n",
    "### Version 5.0  -V.40  2020.10.09   -  Multiple Algorithms"
   ]
  },
  {
   "cell_type": "code",
   "execution_count": 138,
   "metadata": {},
   "outputs": [],
   "source": [
    "import numpy as np\n",
    "import pandas as pd\n",
    "import seaborn as sns\n",
    "import matplotlib.pyplot as plt\n",
    "%matplotlib inline\n",
    "\n",
    "import os.path"
   ]
  },
  {
   "cell_type": "code",
   "execution_count": 139,
   "metadata": {},
   "outputs": [],
   "source": [
    "# for Linear regression using scikit learn\n",
    "\n",
    "from sklearn.linear_model import LinearRegression\n",
    "from sklearn.model_selection import train_test_split\n",
    "from sklearn.metrics import mean_squared_error\n",
    "from sklearn.metrics import r2_score"
   ]
  },
  {
   "cell_type": "code",
   "execution_count": 140,
   "metadata": {},
   "outputs": [],
   "source": [
    "# For XG Boost algo\n",
    "\n",
    "from xgboost import XGBRegressor \n",
    "import xgboost as xgb"
   ]
  },
  {
   "cell_type": "markdown",
   "metadata": {},
   "source": [
    "###  Change the below details as per your installation"
   ]
  },
  {
   "cell_type": "code",
   "execution_count": 141,
   "metadata": {},
   "outputs": [],
   "source": [
    "filepath     = 'd:/DataScience/GREY-ATOM/09-25-Hackaton-Due-Oct-10-stayze-rent/'\n",
    "trainfile    = 'train.csv'\n",
    "testfile     = 'test.csv'\n",
    "enggdata     = 'engg-features.csv'           # to be created via another code, with just engineered values from train dataset\n",
    "enggdatatest = 'engg-features-test.csv'      # to be created via another code, with just engineered values from test dataset\n",
    "trackresults = 'modelresults.csv'"
   ]
  },
  {
   "cell_type": "markdown",
   "metadata": {},
   "source": [
    "### EDA Routines "
   ]
  },
  {
   "cell_type": "code",
   "execution_count": 142,
   "metadata": {
    "scrolled": true
   },
   "outputs": [],
   "source": [
    "#EDA Missing data\n",
    "\n",
    "def missing_data( dfr) :      # While this is done, it is redendant as the columns will be dropped\n",
    "    #EDA 1\n",
    "    dfr.name.fillna('*** Get Name Updated ***', inplace = True)    # Fixed the missing names in the data set\n",
    "\n",
    "    #EDA 2\n",
    "    dfr.last_review.fillna('01-01-2000', inplace = True)           # FIXED missing last review\n",
    "\n",
    "    #EDA 3\n",
    "    dfr.reviews_per_month.fillna(0, inplace = True)                # Fixed missing reviews/month\n",
    "\n",
    "    #EDA 4\n",
    "    dfr.host_name.fillna('*** Enter Host Name Here ***', inplace = True)\n",
    "    \n",
    "    return dfr\n"
   ]
  },
  {
   "cell_type": "code",
   "execution_count": 143,
   "metadata": {},
   "outputs": [],
   "source": [
    "#EDA Outliers\n",
    "\n",
    "def outlier_data ( dfr, rmax, rmin, daymax):\n",
    "    #EDA 6 - Remove rent outliers\n",
    "    dfr.drop((dfr[dfr.price >= rmax].index), axis = 0, inplace = True)  \n",
    "    dfr.drop (dfr[dfr.price <= rmin].index, axis = 0, inplace = True)\n",
    "   \n",
    "    #EDA 7  - Remove day stay outliers\n",
    "    dfr.drop(dfr[dfr.minimum_nights > daymax].index, axis = 0, inplace = True)\n",
    "    \n",
    "    return dfr\n"
   ]
  },
  {
   "cell_type": "markdown",
   "metadata": {},
   "source": [
    "##  \n",
    "## When cycling with different options START FROM HERE"
   ]
  },
  {
   "cell_type": "markdown",
   "metadata": {},
   "source": [
    "#### if run for the first time, then create a empty template of model results, else load the previous results"
   ]
  },
  {
   "cell_type": "code",
   "execution_count": 144,
   "metadata": {},
   "outputs": [
    {
     "name": "stdout",
     "output_type": "stream",
     "text": [
      " Previous  7   results loaded\n"
     ]
    }
   ],
   "source": [
    "# Load Previous Results \n",
    "\n",
    "if os.path.isfile(filepath + trackresults) :\n",
    "    modelresults = pd.read_csv (filepath + trackresults)\n",
    "    print (' Previous ', modelresults.shape[0], '  results loaded')\n",
    "else :\n",
    "    modelresults = pd.DataFrame(columns= ('Model','Comments', 'Engg_Feat', 'Train_RSME', 'Train_R2', 'Test_RMSE', 'Test_R2','One Hot','Features'))\n",
    "    print (' New Results Tracking file created ')"
   ]
  },
  {
   "cell_type": "code",
   "execution_count": 145,
   "metadata": {},
   "outputs": [
    {
     "name": "stdout",
     "output_type": "stream",
     "text": [
      "\n",
      "\n",
      " Number of observations in original data file 34226 \n",
      "\n",
      "\n"
     ]
    }
   ],
   "source": [
    "# Read Data set\n",
    "\n",
    "file_name = filepath + trainfile\n",
    "\n",
    "dfr = pd.read_csv(file_name)\n",
    "\n",
    "org_count = dfr.shape[0]\n",
    "\n",
    "print ('\\n\\n', 'Number of observations in original data file', org_count, '\\n\\n')"
   ]
  },
  {
   "cell_type": "markdown",
   "metadata": {},
   "source": [
    "### Set the below semaphore to true, if the engineered features are to be included"
   ]
  },
  {
   "cell_type": "code",
   "execution_count": 146,
   "metadata": {},
   "outputs": [],
   "source": [
    "add_engg_features = False\n",
    "remove_outliers   = True\n",
    "\n",
    "comments = 'Rent 20 to 500, min days < 150 '\n",
    "\n",
    "# ENSURE THAT THE OUTLIER NOTES FIELD IS UPDATED WITH MEANINGFUL COMMENTS, THIS gets written to the output file for analysis"
   ]
  },
  {
   "cell_type": "markdown",
   "metadata": {},
   "source": [
    "#### Model info for CLEANSING & TRACKING purposes"
   ]
  },
  {
   "cell_type": "code",
   "execution_count": 147,
   "metadata": {},
   "outputs": [],
   "source": [
    "# UPDATE THIS CELL \n",
    "\n",
    "rentmax = 500\n",
    "rentmin = 20\n",
    "daysmax = 150\n",
    "comments = 'Rent 20 to 500, min days < 150 '\n",
    "comments_ols = comments \n",
    "# ENSURE THAT THE OUTLIER NOTES FIELD IS UPDATED WITH MEANINGFUL COMMENTS, THIS gets written to the output file for analysis"
   ]
  },
  {
   "cell_type": "markdown",
   "metadata": {},
   "source": [
    "####  Data Preperation"
   ]
  },
  {
   "cell_type": "code",
   "execution_count": 148,
   "metadata": {},
   "outputs": [],
   "source": [
    "if add_engg_features :      # Add the featured engineered columns\n",
    "    engg_f = pd.read_csv(filepath + enggdata)\n",
    "    dfr = pd.concat([dfr, engg_f], axis = 1)"
   ]
  },
  {
   "cell_type": "code",
   "execution_count": 149,
   "metadata": {},
   "outputs": [
    {
     "name": "stdout",
     "output_type": "stream",
     "text": [
      "Dropped  1025  observations; about ~  2.99  % of the train data\n"
     ]
    }
   ],
   "source": [
    "# fill missing values\n",
    "dfr =  missing_data (dfr)\n",
    "\n",
    "# remove outliers\n",
    "if  remove_outliers :\n",
    "    dfr = outlier_data(dfr, rentmax, rentmin, daysmax)            # dataset, max rent, min rent, max days\n",
    "    print ('Dropped ', org_count - dfr.shape[0], ' observations; about ~ ', round((1-(dfr.shape[0]/org_count))*100,2) ,' % of the train data')\n"
   ]
  },
  {
   "cell_type": "code",
   "execution_count": 150,
   "metadata": {},
   "outputs": [],
   "source": [
    "df = dfr.reset_index().copy()  # reset the index, as dropping records leaves gaps in the index. This eliminates a warning "
   ]
  },
  {
   "cell_type": "code",
   "execution_count": 151,
   "metadata": {},
   "outputs": [],
   "source": [
    "# The above df is clean; no obs removed;\n",
    "\n",
    "# The approach for LR is as follows;\n",
    "#- One hot neighbourhood group\n",
    "#- One hot room type\n",
    "#- ignore (drop) neighbourhood\n",
    "#- drop non value adding col; 'id', 'name', 'host_id', 'host_name',\n",
    "#- Drop col neighbourhood group & room type as they are One Hotted\n",
    "\n",
    "# rest are numeric and can be used for LR"
   ]
  },
  {
   "cell_type": "markdown",
   "metadata": {},
   "source": [
    "#### Identify Features and Usage"
   ]
  },
  {
   "cell_type": "code",
   "execution_count": 152,
   "metadata": {},
   "outputs": [],
   "source": [
    "allfeatures = df.columns\n",
    "dep_col =    ['price']\n",
    "onehot_col = ['neighbourhood_group', 'room_type']\n",
    "\n",
    "drop_col =   ['id', 'name', 'host_id', 'host_name', 'price',  'last_review', 'index', 'neighbourhood'] \n",
    "# with reset_index the old index is added as additional col with name 'index'. This is also dropped\n",
    "\n",
    "ind_col = list(set(allfeatures) - set(dep_col) - set(onehot_col) - set(drop_col))\n"
   ]
  },
  {
   "cell_type": "markdown",
   "metadata": {},
   "source": [
    "#### Drop columns that are not relevant, index, and dep feature"
   ]
  },
  {
   "cell_type": "code",
   "execution_count": 153,
   "metadata": {},
   "outputs": [],
   "source": [
    "# seperate the dependent variable\n",
    "dfy = df[dep_col]  \n",
    "\n",
    "# remove features that are not contributing to the outcome.\n",
    "df = df.drop(drop_col , axis = 1)\n"
   ]
  },
  {
   "cell_type": "markdown",
   "metadata": {},
   "source": [
    "##### One hot ordinal features."
   ]
  },
  {
   "cell_type": "code",
   "execution_count": 154,
   "metadata": {},
   "outputs": [],
   "source": [
    "onehot_df = pd.get_dummies(df[onehot_col])"
   ]
  },
  {
   "cell_type": "code",
   "execution_count": 155,
   "metadata": {},
   "outputs": [],
   "source": [
    "df.drop(onehot_col, axis = 1, inplace = True)"
   ]
  },
  {
   "cell_type": "code",
   "execution_count": 156,
   "metadata": {},
   "outputs": [],
   "source": [
    "df = pd.concat([df, onehot_df], axis = 1)"
   ]
  },
  {
   "cell_type": "markdown",
   "metadata": {},
   "source": [
    "#### Drop the Dummy Variable from one hot"
   ]
  },
  {
   "cell_type": "code",
   "execution_count": 157,
   "metadata": {},
   "outputs": [],
   "source": [
    "df.drop(['neighbourhood_group_Staten Island'], axis = 1, inplace = True)  \n",
    "df.drop([ 'room_type_Shared room'], axis = 1, inplace = True)  "
   ]
  },
  {
   "cell_type": "markdown",
   "metadata": {},
   "source": [
    "#### setup Sklearn for Linear Regression"
   ]
  },
  {
   "cell_type": "markdown",
   "metadata": {},
   "source": [
    "#### Evaluation Metrics: Evaluate the performance of the model using two metrics - R-squared value and Root Mean Squared Error (RMSE).\n",
    "\n",
    "R-squared values range from 0 to 1 and are commonly stated as percentages. It is a statistical measure that represents the proportion of the variance for a target variable that is explained by the independent variables. The other commonly used metric for regression problems is RMSE, that measures the average magnitude of the residuals or error. We will be using both these metrics to evaluate the model performance.\n",
    "\n",
    "Ideally, lower RMSE and higher R-squared values are indicative of a good model."
   ]
  },
  {
   "cell_type": "code",
   "execution_count": 158,
   "metadata": {},
   "outputs": [
    {
     "name": "stdout",
     "output_type": "stream",
     "text": [
      "Percentage of original data used : 97.01\n"
     ]
    }
   ],
   "source": [
    "print('Percentage of original data used :', round(df.shape[0]/org_count * 100, 2))"
   ]
  },
  {
   "cell_type": "markdown",
   "metadata": {},
   "source": [
    "#####  Apply Ordinary Least Square Linear Regression Model from SciKit Learn"
   ]
  },
  {
   "cell_type": "code",
   "execution_count": 159,
   "metadata": {},
   "outputs": [],
   "source": [
    "X_train, X_test, y_train, y_test = train_test_split(df,dfy, test_size=0.2, random_state=100)"
   ]
  },
  {
   "cell_type": "code",
   "execution_count": 160,
   "metadata": {},
   "outputs": [],
   "source": [
    "# Model OLS\n",
    "algo = 'OLS Linear Regression'"
   ]
  },
  {
   "cell_type": "code",
   "execution_count": 161,
   "metadata": {},
   "outputs": [],
   "source": [
    "# Instantiate LR model\n",
    "lrm = LinearRegression()"
   ]
  },
  {
   "cell_type": "code",
   "execution_count": 162,
   "metadata": {},
   "outputs": [
    {
     "data": {
      "text/plain": [
       "LinearRegression(copy_X=True, fit_intercept=True, n_jobs=None, normalize=False)"
      ]
     },
     "execution_count": 162,
     "metadata": {},
     "output_type": "execute_result"
    }
   ],
   "source": [
    "lrm.fit(X_train, y_train)"
   ]
  },
  {
   "cell_type": "code",
   "execution_count": 163,
   "metadata": {},
   "outputs": [],
   "source": [
    "ols_pred = lrm.predict(X_test)"
   ]
  },
  {
   "cell_type": "code",
   "execution_count": 164,
   "metadata": {},
   "outputs": [],
   "source": [
    "rmserr = np.sqrt(mean_squared_error(y_test,ols_pred))"
   ]
  },
  {
   "cell_type": "code",
   "execution_count": 165,
   "metadata": {},
   "outputs": [
    {
     "name": "stdout",
     "output_type": "stream",
     "text": [
      "\n",
      "\n",
      " ________________________________________________________________________________________________________________________ \n",
      "\n",
      "     The error after running Ordinary Least Square Linear Regression  65.43 \n",
      " ________________________________________________________________________________________________________________________ \n",
      "\n",
      "\n",
      "\n"
     ]
    }
   ],
   "source": [
    "print ('\\n'*2, '_'*120, '\\n\\n',\n",
    "       '    The error after running Ordinary Least Square Linear Regression ', round((rmserr),2),\n",
    "      '\\n', '_'*120, '\\n'*3,)"
   ]
  },
  {
   "cell_type": "code",
   "execution_count": 166,
   "metadata": {},
   "outputs": [],
   "source": [
    "#Determine the R2 value"
   ]
  },
  {
   "cell_type": "code",
   "execution_count": 167,
   "metadata": {},
   "outputs": [],
   "source": [
    "r2 = r2_score(y_test, ols_pred)"
   ]
  },
  {
   "cell_type": "code",
   "execution_count": 168,
   "metadata": {},
   "outputs": [
    {
     "name": "stdout",
     "output_type": "stream",
     "text": [
      "\n",
      "\n",
      " ________________________________________________________________________________________________________________________ \n",
      "\n",
      "     The R2 Score is  0.43 \n",
      " ________________________________________________________________________________________________________________________ \n",
      "\n",
      "\n",
      "\n"
     ]
    }
   ],
   "source": [
    "print ('\\n'*2, '_'*120, '\\n\\n',\n",
    "       '    The R2 Score is ', round(r2,2),\n",
    "      '\\n', '_'*120, '\\n'*3,)"
   ]
  },
  {
   "cell_type": "code",
   "execution_count": 169,
   "metadata": {
    "scrolled": false
   },
   "outputs": [],
   "source": [
    "train_e = np.sqrt(mean_squared_error(y_train, lrm.predict(X_train)))\n",
    "train_r = r2_score(y_train,lrm.predict(X_train) )\n",
    "test_e = np.sqrt(mean_squared_error(y_test, lrm.predict(X_test)))\n",
    "test_r = r2_score(y_test,lrm.predict(X_test) )\n"
   ]
  },
  {
   "cell_type": "code",
   "execution_count": 170,
   "metadata": {},
   "outputs": [],
   "source": [
    "modelresults.loc[len(modelresults)] = [algo,comments, add_engg_features, train_e, train_r, test_e, test_r, onehot_col, ind_col] "
   ]
  },
  {
   "cell_type": "code",
   "execution_count": 171,
   "metadata": {},
   "outputs": [
    {
     "data": {
      "text/html": [
       "<div>\n",
       "<style scoped>\n",
       "    .dataframe tbody tr th:only-of-type {\n",
       "        vertical-align: middle;\n",
       "    }\n",
       "\n",
       "    .dataframe tbody tr th {\n",
       "        vertical-align: top;\n",
       "    }\n",
       "\n",
       "    .dataframe thead th {\n",
       "        text-align: right;\n",
       "    }\n",
       "</style>\n",
       "<table border=\"1\" class=\"dataframe\">\n",
       "  <thead>\n",
       "    <tr style=\"text-align: right;\">\n",
       "      <th></th>\n",
       "      <th>Model</th>\n",
       "      <th>Comments</th>\n",
       "      <th>Engg_Feat</th>\n",
       "      <th>Train_RSME</th>\n",
       "      <th>Train_R2</th>\n",
       "      <th>Test_RMSE</th>\n",
       "      <th>Test_R2</th>\n",
       "      <th>One Hot</th>\n",
       "      <th>Features</th>\n",
       "    </tr>\n",
       "  </thead>\n",
       "  <tbody>\n",
       "    <tr>\n",
       "      <th>7</th>\n",
       "      <td>OLS Linear Regression</td>\n",
       "      <td>Rent 20 to 500, min days &lt; 150</td>\n",
       "      <td>False</td>\n",
       "      <td>63.75</td>\n",
       "      <td>0.43</td>\n",
       "      <td>65.43</td>\n",
       "      <td>0.43</td>\n",
       "      <td>[neighbourhood_group, room_type]</td>\n",
       "      <td>[longitude, reviews_per_month, number_of_revie...</td>\n",
       "    </tr>\n",
       "  </tbody>\n",
       "</table>\n",
       "</div>"
      ],
      "text/plain": [
       "                   Model                         Comments  Engg_Feat  \\\n",
       "7  OLS Linear Regression  Rent 20 to 500, min days < 150       False   \n",
       "\n",
       "   Train_RSME  Train_R2  Test_RMSE  Test_R2                           One Hot  \\\n",
       "7       63.75      0.43      65.43     0.43  [neighbourhood_group, room_type]   \n",
       "\n",
       "                                            Features  \n",
       "7  [longitude, reviews_per_month, number_of_revie...  "
      ]
     },
     "execution_count": 171,
     "metadata": {},
     "output_type": "execute_result"
    }
   ],
   "source": [
    "round(modelresults.tail(1),2)"
   ]
  },
  {
   "cell_type": "markdown",
   "metadata": {},
   "source": [
    "#### Apply RIDGE Regession & Evalation"
   ]
  },
  {
   "cell_type": "code",
   "execution_count": 51,
   "metadata": {},
   "outputs": [],
   "source": [
    "from sklearn.linear_model import Ridge\n",
    "algo = 'Ridge'"
   ]
  },
  {
   "cell_type": "code",
   "execution_count": 52,
   "metadata": {},
   "outputs": [],
   "source": [
    "ridge = Ridge(alpha = .01)\n",
    "ridge.fit(X_train, y_train)\n",
    "ridge_pred = ridge.predict (X_test)"
   ]
  },
  {
   "cell_type": "code",
   "execution_count": 53,
   "metadata": {},
   "outputs": [],
   "source": [
    "train_e = np.sqrt(mean_squared_error(y_train, ridge.predict(X_train)))\n",
    "train_r = r2_score(y_train,ridge.predict(X_train) )\n",
    "test_e = np.sqrt(mean_squared_error(y_test, ridge.predict(X_test)))\n",
    "test_r = r2_score(y_test,ridge.predict(X_test) )"
   ]
  },
  {
   "cell_type": "code",
   "execution_count": 54,
   "metadata": {},
   "outputs": [],
   "source": [
    "modelresults.loc[len(modelresults)] = [algo, comments, add_engg_features, train_e, train_r, test_e, test_r, onehot_col, ind_col] "
   ]
  },
  {
   "cell_type": "code",
   "execution_count": 55,
   "metadata": {},
   "outputs": [
    {
     "data": {
      "text/html": [
       "<div>\n",
       "<style scoped>\n",
       "    .dataframe tbody tr th:only-of-type {\n",
       "        vertical-align: middle;\n",
       "    }\n",
       "\n",
       "    .dataframe tbody tr th {\n",
       "        vertical-align: top;\n",
       "    }\n",
       "\n",
       "    .dataframe thead th {\n",
       "        text-align: right;\n",
       "    }\n",
       "</style>\n",
       "<table border=\"1\" class=\"dataframe\">\n",
       "  <thead>\n",
       "    <tr style=\"text-align: right;\">\n",
       "      <th></th>\n",
       "      <th>Model</th>\n",
       "      <th>Comments</th>\n",
       "      <th>Engg_Feat</th>\n",
       "      <th>Train_RSME</th>\n",
       "      <th>Train_R2</th>\n",
       "      <th>Test_RMSE</th>\n",
       "      <th>Test_R2</th>\n",
       "      <th>One Hot</th>\n",
       "      <th>Features</th>\n",
       "    </tr>\n",
       "  </thead>\n",
       "  <tbody>\n",
       "    <tr>\n",
       "      <th>2</th>\n",
       "      <td>Ridge</td>\n",
       "      <td>Rent 20 to 500, min days &lt; 150</td>\n",
       "      <td>True</td>\n",
       "      <td>63.72</td>\n",
       "      <td>0.43</td>\n",
       "      <td>65.35</td>\n",
       "      <td>0.43</td>\n",
       "      <td>[neighbourhood_group, room_type]</td>\n",
       "      <td>[longitude, reviews_per_month, number_of_revie...</td>\n",
       "    </tr>\n",
       "  </tbody>\n",
       "</table>\n",
       "</div>"
      ],
      "text/plain": [
       "   Model                         Comments Engg_Feat  Train_RSME  Train_R2  \\\n",
       "2  Ridge  Rent 20 to 500, min days < 150       True       63.72      0.43   \n",
       "\n",
       "   Test_RMSE  Test_R2                           One Hot  \\\n",
       "2      65.35     0.43  [neighbourhood_group, room_type]   \n",
       "\n",
       "                                            Features  \n",
       "2  [longitude, reviews_per_month, number_of_revie...  "
      ]
     },
     "execution_count": 55,
     "metadata": {},
     "output_type": "execute_result"
    }
   ],
   "source": [
    "round(modelresults.tail(1),2)"
   ]
  },
  {
   "cell_type": "markdown",
   "metadata": {},
   "source": [
    "#### Apply LASSO Regession & Evalation"
   ]
  },
  {
   "cell_type": "code",
   "execution_count": 56,
   "metadata": {},
   "outputs": [],
   "source": [
    "from sklearn.linear_model import Lasso\n",
    "algo = 'Lasso'"
   ]
  },
  {
   "cell_type": "code",
   "execution_count": 57,
   "metadata": {},
   "outputs": [],
   "source": [
    "lasso = Lasso(alpha = 0.01)\n",
    "lasso.fit (X_train, y_train)\n",
    "lasso_pred = lasso.predict (X_test)"
   ]
  },
  {
   "cell_type": "code",
   "execution_count": 58,
   "metadata": {},
   "outputs": [],
   "source": [
    "train_e = np.sqrt(mean_squared_error(y_train, lasso.predict(X_train)))\n",
    "train_r = r2_score(y_train,lasso.predict(X_train) )\n",
    "test_e = np.sqrt(mean_squared_error(y_test, lasso.predict(X_test)))\n",
    "test_r = r2_score(y_test,lasso.predict(X_test) )\n",
    "\n",
    "modelresults.loc[len(modelresults)] = [algo, comments, add_engg_features, train_e, train_r, test_e, test_r, onehot_col, ind_col] \n"
   ]
  },
  {
   "cell_type": "code",
   "execution_count": 59,
   "metadata": {},
   "outputs": [
    {
     "data": {
      "text/html": [
       "<div>\n",
       "<style scoped>\n",
       "    .dataframe tbody tr th:only-of-type {\n",
       "        vertical-align: middle;\n",
       "    }\n",
       "\n",
       "    .dataframe tbody tr th {\n",
       "        vertical-align: top;\n",
       "    }\n",
       "\n",
       "    .dataframe thead th {\n",
       "        text-align: right;\n",
       "    }\n",
       "</style>\n",
       "<table border=\"1\" class=\"dataframe\">\n",
       "  <thead>\n",
       "    <tr style=\"text-align: right;\">\n",
       "      <th></th>\n",
       "      <th>Model</th>\n",
       "      <th>Comments</th>\n",
       "      <th>Engg_Feat</th>\n",
       "      <th>Train_RSME</th>\n",
       "      <th>Train_R2</th>\n",
       "      <th>Test_RMSE</th>\n",
       "      <th>Test_R2</th>\n",
       "      <th>One Hot</th>\n",
       "      <th>Features</th>\n",
       "    </tr>\n",
       "  </thead>\n",
       "  <tbody>\n",
       "    <tr>\n",
       "      <th>3</th>\n",
       "      <td>Lasso</td>\n",
       "      <td>Rent 20 to 500, min days &lt; 150</td>\n",
       "      <td>True</td>\n",
       "      <td>63.72</td>\n",
       "      <td>0.43</td>\n",
       "      <td>65.38</td>\n",
       "      <td>0.43</td>\n",
       "      <td>[neighbourhood_group, room_type]</td>\n",
       "      <td>[longitude, reviews_per_month, number_of_revie...</td>\n",
       "    </tr>\n",
       "  </tbody>\n",
       "</table>\n",
       "</div>"
      ],
      "text/plain": [
       "   Model                         Comments Engg_Feat  Train_RSME  Train_R2  \\\n",
       "3  Lasso  Rent 20 to 500, min days < 150       True       63.72      0.43   \n",
       "\n",
       "   Test_RMSE  Test_R2                           One Hot  \\\n",
       "3      65.38     0.43  [neighbourhood_group, room_type]   \n",
       "\n",
       "                                            Features  \n",
       "3  [longitude, reviews_per_month, number_of_revie...  "
      ]
     },
     "execution_count": 59,
     "metadata": {},
     "output_type": "execute_result"
    }
   ],
   "source": [
    "round(modelresults.tail(1),2)"
   ]
  },
  {
   "cell_type": "markdown",
   "metadata": {},
   "source": [
    "#### Apply ElasticNet Regession & Evaluation\n",
    "\n",
    "\n",
    "\n"
   ]
  },
  {
   "cell_type": "code",
   "execution_count": 60,
   "metadata": {},
   "outputs": [],
   "source": [
    "from sklearn.linear_model import ElasticNet\n",
    "algo = 'ElasticNet'"
   ]
  },
  {
   "cell_type": "code",
   "execution_count": 61,
   "metadata": {},
   "outputs": [],
   "source": [
    "elast = ElasticNet(alpha = 0.05)\n",
    "elast.fit (X_train, y_train)\n",
    "elast_pred = elast.predict (X_test)"
   ]
  },
  {
   "cell_type": "code",
   "execution_count": 62,
   "metadata": {},
   "outputs": [],
   "source": [
    "train_e = np.sqrt(mean_squared_error(y_train, elast.predict(X_train)))\n",
    "train_r = r2_score(y_train,elast.predict(X_train) )\n",
    "test_e  = np.sqrt(mean_squared_error(y_test, elast.predict(X_test)))\n",
    "test_r  = r2_score(y_test,elast.predict(X_test) )\n",
    "\n",
    "modelresults.loc[len(modelresults)] = [algo, comments, add_engg_features, train_e, train_r, test_e, test_r, onehot_col, ind_col] "
   ]
  },
  {
   "cell_type": "code",
   "execution_count": 63,
   "metadata": {},
   "outputs": [
    {
     "data": {
      "text/html": [
       "<div>\n",
       "<style scoped>\n",
       "    .dataframe tbody tr th:only-of-type {\n",
       "        vertical-align: middle;\n",
       "    }\n",
       "\n",
       "    .dataframe tbody tr th {\n",
       "        vertical-align: top;\n",
       "    }\n",
       "\n",
       "    .dataframe thead th {\n",
       "        text-align: right;\n",
       "    }\n",
       "</style>\n",
       "<table border=\"1\" class=\"dataframe\">\n",
       "  <thead>\n",
       "    <tr style=\"text-align: right;\">\n",
       "      <th></th>\n",
       "      <th>Model</th>\n",
       "      <th>Comments</th>\n",
       "      <th>Engg_Feat</th>\n",
       "      <th>Train_RSME</th>\n",
       "      <th>Train_R2</th>\n",
       "      <th>Test_RMSE</th>\n",
       "      <th>Test_R2</th>\n",
       "      <th>One Hot</th>\n",
       "      <th>Features</th>\n",
       "    </tr>\n",
       "  </thead>\n",
       "  <tbody>\n",
       "    <tr>\n",
       "      <th>4</th>\n",
       "      <td>ElasticNet</td>\n",
       "      <td>Rent 20 to 500, min days &lt; 150</td>\n",
       "      <td>True</td>\n",
       "      <td>65.02</td>\n",
       "      <td>0.41</td>\n",
       "      <td>66.95</td>\n",
       "      <td>0.4</td>\n",
       "      <td>[neighbourhood_group, room_type]</td>\n",
       "      <td>[longitude, reviews_per_month, number_of_revie...</td>\n",
       "    </tr>\n",
       "  </tbody>\n",
       "</table>\n",
       "</div>"
      ],
      "text/plain": [
       "        Model                         Comments Engg_Feat  Train_RSME  \\\n",
       "4  ElasticNet  Rent 20 to 500, min days < 150       True       65.02   \n",
       "\n",
       "   Train_R2  Test_RMSE  Test_R2                           One Hot  \\\n",
       "4      0.41      66.95      0.4  [neighbourhood_group, room_type]   \n",
       "\n",
       "                                            Features  \n",
       "4  [longitude, reviews_per_month, number_of_revie...  "
      ]
     },
     "execution_count": 63,
     "metadata": {},
     "output_type": "execute_result"
    }
   ],
   "source": [
    "round(modelresults.tail(1),2)"
   ]
  },
  {
   "cell_type": "markdown",
   "metadata": {},
   "source": [
    "#### Apply XG Boost & Evaluation"
   ]
  },
  {
   "cell_type": "markdown",
   "metadata": {},
   "source": [
    "https://www.analyticsvidhya.com/blog/2016/03/complete-guide-parameter-tuning-xgboost-with-codes-python/"
   ]
  },
  {
   "cell_type": "code",
   "execution_count": 64,
   "metadata": {},
   "outputs": [],
   "source": [
    "algo = 'XGBoost'\n",
    "#comments = \"Orginal .7 5 8 3 200 13 dep =12 .1 .1 1 1\"\n",
    "comments = \"Reduce Overfit .5 5 8 3 200 chldwt:25 dep:5  Lr:.08 .8 .8\"\n",
    "xgboost = XGBRegressor(objective='reg:squarederror',\n",
    "                       subsample = 0.5,                        # low value prevent OF, too low leads  to UF  0.5 - 1\n",
    "                       scale_pos_weight= 5,                    # > 0 used in case of high class imbalance, helps convergence.\n",
    "                       reg_lambda= 8 ,                         # check usage - \n",
    "                       gamma = 3,                              # min loss fun reductio reqd to split the node\n",
    "                       n_estimators = 200, \n",
    "                       min_child_weight= 25,                   # Low values leads to OF \n",
    "                       max_depth = 5 ,                         # High value leads to OF  3-10 \n",
    "                       learning_rate = 0.08,                    # .01 to .2\n",
    "                       colsample_bytree = .8 ,\n",
    "                       colsample_bynode= .8,\n",
    "                       eval_metric = 'rmse')\n",
    "\n",
    "\n",
    "xgboost.fit(X_train,y_train)\n",
    "xgboost_pred = xgboost.predict(X_test)\n"
   ]
  },
  {
   "cell_type": "code",
   "execution_count": 65,
   "metadata": {},
   "outputs": [],
   "source": [
    "train_e = np.sqrt(mean_squared_error(y_train, xgboost.predict(X_train)))\n",
    "train_r = r2_score(y_train,xgboost.predict(X_train) )\n",
    "test_e = np.sqrt(mean_squared_error(y_test, xgboost.predict(X_test)))\n",
    "test_r = r2_score(y_test, xgboost.predict(X_test) )"
   ]
  },
  {
   "cell_type": "code",
   "execution_count": 66,
   "metadata": {},
   "outputs": [],
   "source": [
    "modelresults.loc[len(modelresults)] = [algo, comments, add_engg_features, train_e, train_r, test_e, test_r, onehot_col, ind_col] "
   ]
  },
  {
   "cell_type": "code",
   "execution_count": 67,
   "metadata": {
    "scrolled": true
   },
   "outputs": [
    {
     "data": {
      "text/html": [
       "<div>\n",
       "<style scoped>\n",
       "    .dataframe tbody tr th:only-of-type {\n",
       "        vertical-align: middle;\n",
       "    }\n",
       "\n",
       "    .dataframe tbody tr th {\n",
       "        vertical-align: top;\n",
       "    }\n",
       "\n",
       "    .dataframe thead th {\n",
       "        text-align: right;\n",
       "    }\n",
       "</style>\n",
       "<table border=\"1\" class=\"dataframe\">\n",
       "  <thead>\n",
       "    <tr style=\"text-align: right;\">\n",
       "      <th></th>\n",
       "      <th>Model</th>\n",
       "      <th>Comments</th>\n",
       "      <th>Engg_Feat</th>\n",
       "      <th>Train_RSME</th>\n",
       "      <th>Train_R2</th>\n",
       "      <th>Test_RMSE</th>\n",
       "      <th>Test_R2</th>\n",
       "      <th>One Hot</th>\n",
       "      <th>Features</th>\n",
       "    </tr>\n",
       "  </thead>\n",
       "  <tbody>\n",
       "    <tr>\n",
       "      <th>5</th>\n",
       "      <td>XGBoost</td>\n",
       "      <td>Reduce Overfit .5 5 8 3 200 chldwt:25 dep:5  L...</td>\n",
       "      <td>True</td>\n",
       "      <td>54.83</td>\n",
       "      <td>0.58</td>\n",
       "      <td>59.02</td>\n",
       "      <td>0.53</td>\n",
       "      <td>[neighbourhood_group, room_type]</td>\n",
       "      <td>[longitude, reviews_per_month, number_of_revie...</td>\n",
       "    </tr>\n",
       "  </tbody>\n",
       "</table>\n",
       "</div>"
      ],
      "text/plain": [
       "     Model                                           Comments Engg_Feat  \\\n",
       "5  XGBoost  Reduce Overfit .5 5 8 3 200 chldwt:25 dep:5  L...      True   \n",
       "\n",
       "   Train_RSME  Train_R2  Test_RMSE  Test_R2                           One Hot  \\\n",
       "5       54.83      0.58      59.02     0.53  [neighbourhood_group, room_type]   \n",
       "\n",
       "                                            Features  \n",
       "5  [longitude, reviews_per_month, number_of_revie...  "
      ]
     },
     "execution_count": 67,
     "metadata": {},
     "output_type": "execute_result"
    }
   ],
   "source": [
    "round(modelresults.tail(1),2)"
   ]
  },
  {
   "cell_type": "markdown",
   "metadata": {},
   "source": [
    "####  XGB with Cross Validation "
   ]
  },
  {
   "cell_type": "code",
   "execution_count": 68,
   "metadata": {},
   "outputs": [],
   "source": [
    "xgb_dm = xgb.DMatrix(data=X_train,label= y_train)\n",
    "algo = 'XGBoost CV - 10 Fold '\n",
    "#comments = \"Reduce Overfit .7 5 8 3 200 13 dep =5  .1 .8 .8\"\n",
    "comments = \"Reduce Overfit .5 5 8 3 200 chldwt:25 dep:5  Lr:.08 .8 .8\""
   ]
  },
  {
   "cell_type": "code",
   "execution_count": 69,
   "metadata": {},
   "outputs": [],
   "source": [
    "xgb_params = {'objective':'reg:squarederror',\n",
    "              'subsample' : 0.5,\n",
    "              'scale_pos_weight': 5,\n",
    "              'lambda' : 8, \n",
    "              'gamma': 3 ,\n",
    "            \n",
    "              'min_child_weight' :  25, \n",
    "              'max_depth': 5,\n",
    "              'learning_rate': 0.08,              \n",
    "              'colsample_bytree': .8,\n",
    "              'colsample_bynode' : .8 }"
   ]
  },
  {
   "cell_type": "code",
   "execution_count": 70,
   "metadata": {},
   "outputs": [],
   "source": [
    "xgb_cv = xgb.cv(dtrain=xgb_dm, \n",
    "                params= xgb_params, \n",
    "                nfold=10,\n",
    "                num_boost_round=100,\n",
    "                early_stopping_rounds=10,\n",
    "                metrics=\"rmse\", \n",
    "                as_pandas=True, \n",
    "                seed=77)"
   ]
  },
  {
   "cell_type": "code",
   "execution_count": 71,
   "metadata": {},
   "outputs": [],
   "source": [
    "train_e = xgb_cv.tail(1).iloc[0,0]\n",
    "train_r = 0\n",
    "test_e = xgb_cv.tail(1).iloc[0,2]\n",
    "test_r = 0"
   ]
  },
  {
   "cell_type": "code",
   "execution_count": 72,
   "metadata": {},
   "outputs": [],
   "source": [
    "modelresults.loc[len(modelresults)] = [algo, comments, add_engg_features, train_e, train_r, test_e, test_r, onehot_col, ind_col] "
   ]
  },
  {
   "cell_type": "code",
   "execution_count": 73,
   "metadata": {},
   "outputs": [
    {
     "data": {
      "text/html": [
       "<div>\n",
       "<style scoped>\n",
       "    .dataframe tbody tr th:only-of-type {\n",
       "        vertical-align: middle;\n",
       "    }\n",
       "\n",
       "    .dataframe tbody tr th {\n",
       "        vertical-align: top;\n",
       "    }\n",
       "\n",
       "    .dataframe thead th {\n",
       "        text-align: right;\n",
       "    }\n",
       "</style>\n",
       "<table border=\"1\" class=\"dataframe\">\n",
       "  <thead>\n",
       "    <tr style=\"text-align: right;\">\n",
       "      <th></th>\n",
       "      <th>Model</th>\n",
       "      <th>Comments</th>\n",
       "      <th>Engg_Feat</th>\n",
       "      <th>Train_RSME</th>\n",
       "      <th>Train_R2</th>\n",
       "      <th>Test_RMSE</th>\n",
       "      <th>Test_R2</th>\n",
       "      <th>One Hot</th>\n",
       "      <th>Features</th>\n",
       "    </tr>\n",
       "  </thead>\n",
       "  <tbody>\n",
       "    <tr>\n",
       "      <th>6</th>\n",
       "      <td>XGBoost CV - 10 Fold</td>\n",
       "      <td>Reduce Overfit .5 5 8 3 200 chldwt:25 dep:5  L...</td>\n",
       "      <td>True</td>\n",
       "      <td>56.5</td>\n",
       "      <td>0.0</td>\n",
       "      <td>58.41</td>\n",
       "      <td>0.0</td>\n",
       "      <td>[neighbourhood_group, room_type]</td>\n",
       "      <td>[longitude, reviews_per_month, number_of_revie...</td>\n",
       "    </tr>\n",
       "  </tbody>\n",
       "</table>\n",
       "</div>"
      ],
      "text/plain": [
       "                   Model                                           Comments  \\\n",
       "6  XGBoost CV - 10 Fold   Reduce Overfit .5 5 8 3 200 chldwt:25 dep:5  L...   \n",
       "\n",
       "  Engg_Feat  Train_RSME  Train_R2  Test_RMSE  Test_R2  \\\n",
       "6      True        56.5       0.0      58.41      0.0   \n",
       "\n",
       "                            One Hot  \\\n",
       "6  [neighbourhood_group, room_type]   \n",
       "\n",
       "                                            Features  \n",
       "6  [longitude, reviews_per_month, number_of_revie...  "
      ]
     },
     "execution_count": 73,
     "metadata": {},
     "output_type": "execute_result"
    }
   ],
   "source": [
    "round(modelresults.tail(1),2)"
   ]
  },
  {
   "cell_type": "markdown",
   "metadata": {},
   "source": [
    "### Save the Results in the TrackResults.Csv file"
   ]
  },
  {
   "cell_type": "code",
   "execution_count": 74,
   "metadata": {},
   "outputs": [],
   "source": [
    "# if this is the first time the program is run, then just write out the model results into a csv, else first delete\n",
    "if os.path.isfile(filepath + trackresults) :\n",
    "    os.remove (filepath + trackresults)\n",
    "\n",
    "modelresults.to_csv(filepath + trackresults, index =False)"
   ]
  },
  {
   "cell_type": "code",
   "execution_count": null,
   "metadata": {},
   "outputs": [],
   "source": []
  },
  {
   "cell_type": "code",
   "execution_count": null,
   "metadata": {},
   "outputs": [],
   "source": []
  },
  {
   "cell_type": "markdown",
   "metadata": {},
   "source": [
    "# --------------------------------------------------------------------------------------------------------------\n",
    "# Validated Till Above Only  - Dont execute the code below\n",
    "# --------------------------------------------------------------------------------------------------------------\n"
   ]
  },
  {
   "cell_type": "code",
   "execution_count": null,
   "metadata": {},
   "outputs": [],
   "source": []
  },
  {
   "cell_type": "markdown",
   "metadata": {},
   "source": [
    "##### USE KFOLD Validation from SciKit Learn to run Linear Regression Multiple times, with different train/test combinations"
   ]
  },
  {
   "cell_type": "code",
   "execution_count": 76,
   "metadata": {},
   "outputs": [],
   "source": [
    "from sklearn.model_selection import KFold"
   ]
  },
  {
   "cell_type": "code",
   "execution_count": 93,
   "metadata": {},
   "outputs": [],
   "source": [
    "algo = 'Kfold CV on OLS'\n",
    "comments = comments_ols                                                               # Revert to original comments\n",
    "kferr = pd.DataFrame(columns = ('Train_rmse', 'Train_R2', 'Test_rmse', 'Test_R2' ))\n",
    "cv = KFold (n_splits = 10, random_state = 77)\n",
    "lrmk = LinearRegression()\n",
    "\n",
    "for trainind, testind in cv.split (df) :\n",
    "    \n",
    "    xtrain = df.iloc[trainind]\n",
    "    ytrain = dfy.iloc[trainind]\n",
    "    xtest  = df.iloc[testind]\n",
    "    ytest  = dfy.iloc[testind]\n",
    "    \n",
    "    lrmk.fit(xtrain, ytrain)\n",
    "    \n",
    "    ypred = lrmk.predict (xtest)\n",
    "\n",
    "    train_e = np.sqrt(mean_squared_error(ytrain, lrmk.predict(xtrain)))\n",
    "    train_r = r2_score(ytrain,lrmk.predict(xtrain) )\n",
    "    test_e = np.sqrt(mean_squared_error(ytest, lrmk.predict(xtest)))\n",
    "    test_r = r2_score(ytest,lrmk.predict(xtest) )\n",
    "\n",
    "    \n",
    "    kferr.loc[len(kferr)] = [train_e, train_r, test_e, test_r]\n",
    "    \n",
    "    "
   ]
  },
  {
   "cell_type": "code",
   "execution_count": 94,
   "metadata": {},
   "outputs": [],
   "source": [
    "modelresults.loc[len(modelresults)] = [algo, comments, add_engg_features, np.mean(kferr.iloc[:,0]), \n",
    "                                                                          np.mean(kferr.iloc[:,1]), \n",
    "                                                                          np.mean(kferr.iloc[:,2]), \n",
    "                                                                          np.mean(kferr.iloc[:,3]),\n",
    "                                                                          onehot_col, ind_col]"
   ]
  },
  {
   "cell_type": "code",
   "execution_count": 95,
   "metadata": {},
   "outputs": [
    {
     "data": {
      "text/html": [
       "<div>\n",
       "<style scoped>\n",
       "    .dataframe tbody tr th:only-of-type {\n",
       "        vertical-align: middle;\n",
       "    }\n",
       "\n",
       "    .dataframe tbody tr th {\n",
       "        vertical-align: top;\n",
       "    }\n",
       "\n",
       "    .dataframe thead th {\n",
       "        text-align: right;\n",
       "    }\n",
       "</style>\n",
       "<table border=\"1\" class=\"dataframe\">\n",
       "  <thead>\n",
       "    <tr style=\"text-align: right;\">\n",
       "      <th></th>\n",
       "      <th>Model</th>\n",
       "      <th>Comments</th>\n",
       "      <th>Engg_Feat</th>\n",
       "      <th>Train_RSME</th>\n",
       "      <th>Train_R2</th>\n",
       "      <th>Test_RMSE</th>\n",
       "      <th>Test_R2</th>\n",
       "      <th>One Hot</th>\n",
       "      <th>Features</th>\n",
       "    </tr>\n",
       "  </thead>\n",
       "  <tbody>\n",
       "    <tr>\n",
       "      <th>8</th>\n",
       "      <td>Kfold CV on OLS</td>\n",
       "      <td>Rent 20 to 500, min days &lt; 150</td>\n",
       "      <td>True</td>\n",
       "      <td>64.04</td>\n",
       "      <td>0.43</td>\n",
       "      <td>64.07</td>\n",
       "      <td>0.43</td>\n",
       "      <td>[neighbourhood_group, room_type]</td>\n",
       "      <td>[longitude, reviews_per_month, number_of_revie...</td>\n",
       "    </tr>\n",
       "  </tbody>\n",
       "</table>\n",
       "</div>"
      ],
      "text/plain": [
       "             Model                         Comments Engg_Feat  Train_RSME  \\\n",
       "8  Kfold CV on OLS  Rent 20 to 500, min days < 150       True       64.04   \n",
       "\n",
       "   Train_R2  Test_RMSE  Test_R2                           One Hot  \\\n",
       "8      0.43      64.07     0.43  [neighbourhood_group, room_type]   \n",
       "\n",
       "                                            Features  \n",
       "8  [longitude, reviews_per_month, number_of_revie...  "
      ]
     },
     "execution_count": 95,
     "metadata": {},
     "output_type": "execute_result"
    }
   ],
   "source": [
    "round(modelresults.tail(1),2)"
   ]
  },
  {
   "cell_type": "markdown",
   "metadata": {},
   "source": [
    "### Run the test file through the above model, and check the prediction\n"
   ]
  },
  {
   "cell_type": "code",
   "execution_count": 172,
   "metadata": {},
   "outputs": [],
   "source": [
    "dftest = pd.read_csv(filepath + testfile)"
   ]
  },
  {
   "cell_type": "code",
   "execution_count": null,
   "metadata": {},
   "outputs": [],
   "source": [
    "if add_engg_features :      # Add the featured engineered columns\n",
    "    engg_f = pd.read_csv(filepath + enggdatatest)\n",
    "    dftest = pd.concat([dftest, engg_f], axis = 1)"
   ]
  },
  {
   "cell_type": "code",
   "execution_count": 173,
   "metadata": {},
   "outputs": [],
   "source": [
    "# fill missing values\n",
    "dftest = missing_data (dftest)\n"
   ]
  },
  {
   "cell_type": "code",
   "execution_count": 174,
   "metadata": {},
   "outputs": [],
   "source": [
    "# remove data with max night outliers\n",
    "dftest.drop(dftest[dftest.minimum_nights > daysmax].index, axis = 0, inplace = True)\n",
    "drop_col.remove('price')\n",
    "\n",
    "dft  = dftest.reset_index().copy()  # reset the index, as dropping fes records leaves gaps in the index. elimates a warning \n",
    "\n",
    "dft_org = dft.copy()  # keep a copy to analyse post rent prediction.\n",
    "\n",
    "dft = dft.drop(drop_col , axis = 1)\n",
    "\n",
    "# remove features that are not ontributing to the outcome.\n",
    "\n",
    "onehot_dft = pd.get_dummies(dft[onehot_col])\n",
    "\n",
    "dft.drop(onehot_col, axis = 1, inplace = True)\n",
    "\n",
    "dft = pd.concat([dft, onehot_dft], axis = 1)\n",
    "\n",
    "#### Drop the Dummy Variable from one hot\n",
    "\n",
    "dft.drop(['neighbourhood_group_Staten Island'], axis = 1, inplace = True)  \n",
    "dft.drop([ 'room_type_Shared room'], axis = 1, inplace = True)  \n"
   ]
  },
  {
   "cell_type": "markdown",
   "metadata": {},
   "source": [
    "####   USe the above processed test data file to predictprice using the lrm LR Model from above"
   ]
  },
  {
   "cell_type": "code",
   "execution_count": 183,
   "metadata": {
    "scrolled": true
   },
   "outputs": [],
   "source": [
    "predrent = lrm.predict(dft).squeeze()\n"
   ]
  },
  {
   "cell_type": "code",
   "execution_count": 186,
   "metadata": {},
   "outputs": [],
   "source": [
    "predrent = pd.Series(predrent)"
   ]
  },
  {
   "cell_type": "code",
   "execution_count": 187,
   "metadata": {},
   "outputs": [],
   "source": [
    "dft_org = pd.concat([dft_org, predrent], axis = 1)\n",
    "dft_org.rename(columns = { 0 : 'price'}, inplace = True)"
   ]
  },
  {
   "cell_type": "code",
   "execution_count": 188,
   "metadata": {},
   "outputs": [],
   "source": [
    "dft_org.to_csv(filepath + 'Testwithprice.csv' , index = False)"
   ]
  },
  {
   "cell_type": "markdown",
   "metadata": {},
   "source": [
    "### Analysis of the Preddicted Rent"
   ]
  },
  {
   "cell_type": "code",
   "execution_count": null,
   "metadata": {},
   "outputs": [],
   "source": [
    "# there are few -ve rents predicted"
   ]
  },
  {
   "cell_type": "code",
   "execution_count": 189,
   "metadata": {},
   "outputs": [
    {
     "data": {
      "text/plain": [
       "13"
      ]
     },
     "execution_count": 189,
     "metadata": {},
     "output_type": "execute_result"
    }
   ],
   "source": [
    "dft_org[dft_org.price < 0]['price'].count()  # 13 predicted rents are in the -ve !!!"
   ]
  },
  {
   "cell_type": "code",
   "execution_count": 190,
   "metadata": {},
   "outputs": [
    {
     "name": "stdout",
     "output_type": "stream",
     "text": [
      "\n",
      "\n",
      " ________________________________________________________________________________________________________________________ \n",
      " Negative rent prediction as percent of total predictions :  0.09 % \n",
      " ________________________________________________________________________________________________________________________ \n",
      "\n",
      "\n"
     ]
    }
   ],
   "source": [
    "print ('\\n'*2, '_'*120, '\\n',\n",
    "       'Negative rent prediction as percent of total predictions : ', \n",
    "        round(dft_org[dft_org.price < 0]['price'].count() / dft_org.shape[0]*100,2),'%',\n",
    "       '\\n', '_'*120, '\\n\\n')"
   ]
  },
  {
   "cell_type": "code",
   "execution_count": 191,
   "metadata": {
    "scrolled": false
   },
   "outputs": [
    {
     "name": "stdout",
     "output_type": "stream",
     "text": [
      "             neighbourhood     room_type      price\n",
      "11404              Jamaica  Private room -25.464896\n",
      "7099               Astoria  Private room -24.711014\n",
      "6121              Bushwick  Private room -22.464179\n",
      "9412   Springfield Gardens  Private room -16.773838\n",
      "14058             Bushwick  Private room -13.295838\n",
      "9460   Springfield Gardens  Private room -12.093461\n",
      "12009              Jamaica  Private room  -7.375107\n",
      "1095        Queens Village  Private room  -5.200617\n",
      "10128          Kew Gardens  Private room  -4.680602\n",
      "13125         Forest Hills  Private room  -3.128846\n",
      "3083               Bayside  Private room  -2.133044\n",
      "5811           East Harlem   Shared room -43.597105\n",
      "1190               Jamaica   Shared room -18.445399\n"
     ]
    }
   ],
   "source": [
    "print(dft_org[dft_org.price < 0][['neighbourhood', 'room_type', 'price']].sort_values([ 'room_type', 'price']))"
   ]
  },
  {
   "cell_type": "code",
   "execution_count": 192,
   "metadata": {},
   "outputs": [
    {
     "data": {
      "text/html": [
       "<div>\n",
       "<style scoped>\n",
       "    .dataframe tbody tr th:only-of-type {\n",
       "        vertical-align: middle;\n",
       "    }\n",
       "\n",
       "    .dataframe tbody tr th {\n",
       "        vertical-align: top;\n",
       "    }\n",
       "\n",
       "    .dataframe thead tr th {\n",
       "        text-align: left;\n",
       "    }\n",
       "\n",
       "    .dataframe thead tr:last-of-type th {\n",
       "        text-align: right;\n",
       "    }\n",
       "</style>\n",
       "<table border=\"1\" class=\"dataframe\">\n",
       "  <thead>\n",
       "    <tr>\n",
       "      <th></th>\n",
       "      <th></th>\n",
       "      <th colspan=\"9\" halign=\"left\">price</th>\n",
       "    </tr>\n",
       "    <tr>\n",
       "      <th></th>\n",
       "      <th></th>\n",
       "      <th colspan=\"3\" halign=\"left\">max</th>\n",
       "      <th colspan=\"3\" halign=\"left\">mean</th>\n",
       "      <th colspan=\"3\" halign=\"left\">min</th>\n",
       "    </tr>\n",
       "    <tr>\n",
       "      <th></th>\n",
       "      <th>room_type</th>\n",
       "      <th>Entire home/apt</th>\n",
       "      <th>Private room</th>\n",
       "      <th>Shared room</th>\n",
       "      <th>Entire home/apt</th>\n",
       "      <th>Private room</th>\n",
       "      <th>Shared room</th>\n",
       "      <th>Entire home/apt</th>\n",
       "      <th>Private room</th>\n",
       "      <th>Shared room</th>\n",
       "    </tr>\n",
       "    <tr>\n",
       "      <th>neighbourhood_group</th>\n",
       "      <th>neighbourhood</th>\n",
       "      <th></th>\n",
       "      <th></th>\n",
       "      <th></th>\n",
       "      <th></th>\n",
       "      <th></th>\n",
       "      <th></th>\n",
       "      <th></th>\n",
       "      <th></th>\n",
       "      <th></th>\n",
       "    </tr>\n",
       "  </thead>\n",
       "  <tbody>\n",
       "    <tr>\n",
       "      <th rowspan=\"30\" valign=\"top\">Bronx</th>\n",
       "      <th>Allerton</th>\n",
       "      <td>150.096426</td>\n",
       "      <td>60.622618</td>\n",
       "      <td>NaN</td>\n",
       "      <td>129.978288</td>\n",
       "      <td>37.395083</td>\n",
       "      <td>NaN</td>\n",
       "      <td>118.916911</td>\n",
       "      <td>24.815114</td>\n",
       "      <td>NaN</td>\n",
       "    </tr>\n",
       "    <tr>\n",
       "      <th>Baychester</th>\n",
       "      <td>NaN</td>\n",
       "      <td>49.800700</td>\n",
       "      <td>NaN</td>\n",
       "      <td>NaN</td>\n",
       "      <td>49.800700</td>\n",
       "      <td>NaN</td>\n",
       "      <td>NaN</td>\n",
       "      <td>49.800700</td>\n",
       "      <td>NaN</td>\n",
       "    </tr>\n",
       "    <tr>\n",
       "      <th>Belmont</th>\n",
       "      <td>145.381788</td>\n",
       "      <td>70.407979</td>\n",
       "      <td>NaN</td>\n",
       "      <td>145.381788</td>\n",
       "      <td>51.906268</td>\n",
       "      <td>NaN</td>\n",
       "      <td>145.381788</td>\n",
       "      <td>36.213095</td>\n",
       "      <td>NaN</td>\n",
       "    </tr>\n",
       "    <tr>\n",
       "      <th>Bronxdale</th>\n",
       "      <td>134.092132</td>\n",
       "      <td>55.339975</td>\n",
       "      <td>35.867924</td>\n",
       "      <td>128.765798</td>\n",
       "      <td>47.301428</td>\n",
       "      <td>35.867924</td>\n",
       "      <td>123.439464</td>\n",
       "      <td>39.262881</td>\n",
       "      <td>35.867924</td>\n",
       "    </tr>\n",
       "    <tr>\n",
       "      <th>Castle Hill</th>\n",
       "      <td>134.913425</td>\n",
       "      <td>NaN</td>\n",
       "      <td>NaN</td>\n",
       "      <td>126.196505</td>\n",
       "      <td>NaN</td>\n",
       "      <td>NaN</td>\n",
       "      <td>117.479585</td>\n",
       "      <td>NaN</td>\n",
       "      <td>NaN</td>\n",
       "    </tr>\n",
       "    <tr>\n",
       "      <th>City Island</th>\n",
       "      <td>107.359373</td>\n",
       "      <td>NaN</td>\n",
       "      <td>NaN</td>\n",
       "      <td>103.902558</td>\n",
       "      <td>NaN</td>\n",
       "      <td>NaN</td>\n",
       "      <td>101.483793</td>\n",
       "      <td>NaN</td>\n",
       "      <td>NaN</td>\n",
       "    </tr>\n",
       "    <tr>\n",
       "      <th>Claremont Village</th>\n",
       "      <td>77.877351</td>\n",
       "      <td>79.241730</td>\n",
       "      <td>NaN</td>\n",
       "      <td>70.416762</td>\n",
       "      <td>57.373639</td>\n",
       "      <td>NaN</td>\n",
       "      <td>62.956172</td>\n",
       "      <td>36.398468</td>\n",
       "      <td>NaN</td>\n",
       "    </tr>\n",
       "    <tr>\n",
       "      <th>Clason Point</th>\n",
       "      <td>146.280824</td>\n",
       "      <td>68.296211</td>\n",
       "      <td>NaN</td>\n",
       "      <td>135.969071</td>\n",
       "      <td>58.851345</td>\n",
       "      <td>NaN</td>\n",
       "      <td>125.657318</td>\n",
       "      <td>32.617224</td>\n",
       "      <td>NaN</td>\n",
       "    </tr>\n",
       "    <tr>\n",
       "      <th>Concourse</th>\n",
       "      <td>166.199302</td>\n",
       "      <td>90.110561</td>\n",
       "      <td>NaN</td>\n",
       "      <td>145.546320</td>\n",
       "      <td>65.551228</td>\n",
       "      <td>NaN</td>\n",
       "      <td>120.752979</td>\n",
       "      <td>46.001682</td>\n",
       "      <td>NaN</td>\n",
       "    </tr>\n",
       "    <tr>\n",
       "      <th>Concourse Village</th>\n",
       "      <td>146.592523</td>\n",
       "      <td>73.477168</td>\n",
       "      <td>27.988482</td>\n",
       "      <td>143.625279</td>\n",
       "      <td>60.384002</td>\n",
       "      <td>27.988482</td>\n",
       "      <td>140.658035</td>\n",
       "      <td>50.236055</td>\n",
       "      <td>27.988482</td>\n",
       "    </tr>\n",
       "    <tr>\n",
       "      <th>East Morrisania</th>\n",
       "      <td>134.724041</td>\n",
       "      <td>65.190429</td>\n",
       "      <td>NaN</td>\n",
       "      <td>134.724041</td>\n",
       "      <td>55.346559</td>\n",
       "      <td>NaN</td>\n",
       "      <td>134.724041</td>\n",
       "      <td>46.764912</td>\n",
       "      <td>NaN</td>\n",
       "    </tr>\n",
       "    <tr>\n",
       "      <th>Eastchester</th>\n",
       "      <td>143.669722</td>\n",
       "      <td>NaN</td>\n",
       "      <td>NaN</td>\n",
       "      <td>142.726099</td>\n",
       "      <td>NaN</td>\n",
       "      <td>NaN</td>\n",
       "      <td>141.782475</td>\n",
       "      <td>NaN</td>\n",
       "      <td>NaN</td>\n",
       "    </tr>\n",
       "    <tr>\n",
       "      <th>Edenwald</th>\n",
       "      <td>135.335348</td>\n",
       "      <td>57.599827</td>\n",
       "      <td>NaN</td>\n",
       "      <td>125.354639</td>\n",
       "      <td>57.599827</td>\n",
       "      <td>NaN</td>\n",
       "      <td>112.735575</td>\n",
       "      <td>57.599827</td>\n",
       "      <td>NaN</td>\n",
       "    </tr>\n",
       "    <tr>\n",
       "      <th>Fieldston</th>\n",
       "      <td>144.094230</td>\n",
       "      <td>60.407338</td>\n",
       "      <td>NaN</td>\n",
       "      <td>144.094230</td>\n",
       "      <td>51.030644</td>\n",
       "      <td>NaN</td>\n",
       "      <td>144.094230</td>\n",
       "      <td>41.653951</td>\n",
       "      <td>NaN</td>\n",
       "    </tr>\n",
       "    <tr>\n",
       "      <th>Fordham</th>\n",
       "      <td>159.536568</td>\n",
       "      <td>71.312668</td>\n",
       "      <td>39.856413</td>\n",
       "      <td>138.945724</td>\n",
       "      <td>50.514703</td>\n",
       "      <td>30.154167</td>\n",
       "      <td>127.900846</td>\n",
       "      <td>36.368602</td>\n",
       "      <td>20.451921</td>\n",
       "    </tr>\n",
       "    <tr>\n",
       "      <th>Highbridge</th>\n",
       "      <td>135.530309</td>\n",
       "      <td>82.931022</td>\n",
       "      <td>NaN</td>\n",
       "      <td>134.530162</td>\n",
       "      <td>67.439437</td>\n",
       "      <td>NaN</td>\n",
       "      <td>133.530016</td>\n",
       "      <td>53.495756</td>\n",
       "      <td>NaN</td>\n",
       "    </tr>\n",
       "    <tr>\n",
       "      <th>Hunts Point</th>\n",
       "      <td>131.265163</td>\n",
       "      <td>75.787256</td>\n",
       "      <td>NaN</td>\n",
       "      <td>131.265163</td>\n",
       "      <td>59.516741</td>\n",
       "      <td>NaN</td>\n",
       "      <td>131.265163</td>\n",
       "      <td>47.930503</td>\n",
       "      <td>NaN</td>\n",
       "    </tr>\n",
       "    <tr>\n",
       "      <th>Kingsbridge</th>\n",
       "      <td>159.414236</td>\n",
       "      <td>76.199624</td>\n",
       "      <td>18.444300</td>\n",
       "      <td>136.031918</td>\n",
       "      <td>49.355763</td>\n",
       "      <td>18.444300</td>\n",
       "      <td>119.700308</td>\n",
       "      <td>29.946769</td>\n",
       "      <td>18.444300</td>\n",
       "    </tr>\n",
       "    <tr>\n",
       "      <th>Longwood</th>\n",
       "      <td>145.586176</td>\n",
       "      <td>80.361513</td>\n",
       "      <td>NaN</td>\n",
       "      <td>139.883821</td>\n",
       "      <td>56.391347</td>\n",
       "      <td>NaN</td>\n",
       "      <td>133.696787</td>\n",
       "      <td>27.479946</td>\n",
       "      <td>NaN</td>\n",
       "    </tr>\n",
       "    <tr>\n",
       "      <th>Melrose</th>\n",
       "      <td>148.035096</td>\n",
       "      <td>51.045016</td>\n",
       "      <td>NaN</td>\n",
       "      <td>142.390656</td>\n",
       "      <td>51.045016</td>\n",
       "      <td>NaN</td>\n",
       "      <td>135.914185</td>\n",
       "      <td>51.045016</td>\n",
       "      <td>NaN</td>\n",
       "    </tr>\n",
       "    <tr>\n",
       "      <th>Morris Heights</th>\n",
       "      <td>138.659707</td>\n",
       "      <td>83.032583</td>\n",
       "      <td>NaN</td>\n",
       "      <td>137.941017</td>\n",
       "      <td>64.818689</td>\n",
       "      <td>NaN</td>\n",
       "      <td>137.222327</td>\n",
       "      <td>45.861515</td>\n",
       "      <td>NaN</td>\n",
       "    </tr>\n",
       "    <tr>\n",
       "      <th>Morris Park</th>\n",
       "      <td>135.618226</td>\n",
       "      <td>58.727486</td>\n",
       "      <td>NaN</td>\n",
       "      <td>127.563476</td>\n",
       "      <td>39.768820</td>\n",
       "      <td>NaN</td>\n",
       "      <td>119.508726</td>\n",
       "      <td>29.055718</td>\n",
       "      <td>NaN</td>\n",
       "    </tr>\n",
       "    <tr>\n",
       "      <th>Morrisania</th>\n",
       "      <td>149.311654</td>\n",
       "      <td>61.739755</td>\n",
       "      <td>42.547115</td>\n",
       "      <td>142.527773</td>\n",
       "      <td>53.114577</td>\n",
       "      <td>38.347085</td>\n",
       "      <td>137.316490</td>\n",
       "      <td>47.879178</td>\n",
       "      <td>34.147055</td>\n",
       "    </tr>\n",
       "    <tr>\n",
       "      <th>Mott Haven</th>\n",
       "      <td>157.498987</td>\n",
       "      <td>80.716297</td>\n",
       "      <td>NaN</td>\n",
       "      <td>147.670918</td>\n",
       "      <td>64.117460</td>\n",
       "      <td>NaN</td>\n",
       "      <td>142.535498</td>\n",
       "      <td>22.185093</td>\n",
       "      <td>NaN</td>\n",
       "    </tr>\n",
       "    <tr>\n",
       "      <th>Mount Eden</th>\n",
       "      <td>NaN</td>\n",
       "      <td>80.242299</td>\n",
       "      <td>NaN</td>\n",
       "      <td>NaN</td>\n",
       "      <td>65.066032</td>\n",
       "      <td>NaN</td>\n",
       "      <td>NaN</td>\n",
       "      <td>49.889764</td>\n",
       "      <td>NaN</td>\n",
       "    </tr>\n",
       "    <tr>\n",
       "      <th>Mount Hope</th>\n",
       "      <td>136.420078</td>\n",
       "      <td>63.152137</td>\n",
       "      <td>NaN</td>\n",
       "      <td>98.273104</td>\n",
       "      <td>52.734931</td>\n",
       "      <td>NaN</td>\n",
       "      <td>62.052713</td>\n",
       "      <td>45.590266</td>\n",
       "      <td>NaN</td>\n",
       "    </tr>\n",
       "    <tr>\n",
       "      <th>North Riverdale</th>\n",
       "      <td>NaN</td>\n",
       "      <td>46.377276</td>\n",
       "      <td>NaN</td>\n",
       "      <td>NaN</td>\n",
       "      <td>46.377276</td>\n",
       "      <td>NaN</td>\n",
       "      <td>NaN</td>\n",
       "      <td>46.377276</td>\n",
       "      <td>NaN</td>\n",
       "    </tr>\n",
       "    <tr>\n",
       "      <th>Norwood</th>\n",
       "      <td>147.039406</td>\n",
       "      <td>70.693084</td>\n",
       "      <td>NaN</td>\n",
       "      <td>147.039406</td>\n",
       "      <td>49.774272</td>\n",
       "      <td>NaN</td>\n",
       "      <td>147.039406</td>\n",
       "      <td>33.674810</td>\n",
       "      <td>NaN</td>\n",
       "    </tr>\n",
       "    <tr>\n",
       "      <th>Parkchester</th>\n",
       "      <td>146.326685</td>\n",
       "      <td>60.199592</td>\n",
       "      <td>42.780692</td>\n",
       "      <td>130.398989</td>\n",
       "      <td>39.718047</td>\n",
       "      <td>29.712205</td>\n",
       "      <td>121.153038</td>\n",
       "      <td>30.800055</td>\n",
       "      <td>14.466889</td>\n",
       "    </tr>\n",
       "    <tr>\n",
       "      <th>Pelham Bay</th>\n",
       "      <td>139.372782</td>\n",
       "      <td>36.963566</td>\n",
       "      <td>30.158215</td>\n",
       "      <td>127.110376</td>\n",
       "      <td>36.963566</td>\n",
       "      <td>18.399353</td>\n",
       "      <td>108.255852</td>\n",
       "      <td>36.963566</td>\n",
       "      <td>6.640491</td>\n",
       "    </tr>\n",
       "    <tr>\n",
       "      <th>...</th>\n",
       "      <th>...</th>\n",
       "      <td>...</td>\n",
       "      <td>...</td>\n",
       "      <td>...</td>\n",
       "      <td>...</td>\n",
       "      <td>...</td>\n",
       "      <td>...</td>\n",
       "      <td>...</td>\n",
       "      <td>...</td>\n",
       "      <td>...</td>\n",
       "    </tr>\n",
       "    <tr>\n",
       "      <th rowspan=\"30\" valign=\"top\">Staten Island</th>\n",
       "      <th>Clifton</th>\n",
       "      <td>150.832389</td>\n",
       "      <td>58.830823</td>\n",
       "      <td>13.659751</td>\n",
       "      <td>127.963072</td>\n",
       "      <td>58.830823</td>\n",
       "      <td>13.347682</td>\n",
       "      <td>113.480438</td>\n",
       "      <td>58.830823</td>\n",
       "      <td>13.035612</td>\n",
       "    </tr>\n",
       "    <tr>\n",
       "      <th>Concord</th>\n",
       "      <td>126.027968</td>\n",
       "      <td>64.200818</td>\n",
       "      <td>15.559482</td>\n",
       "      <td>126.027968</td>\n",
       "      <td>62.254572</td>\n",
       "      <td>15.559482</td>\n",
       "      <td>126.027968</td>\n",
       "      <td>58.949744</td>\n",
       "      <td>15.559482</td>\n",
       "    </tr>\n",
       "    <tr>\n",
       "      <th>Dongan Hills</th>\n",
       "      <td>133.104887</td>\n",
       "      <td>NaN</td>\n",
       "      <td>NaN</td>\n",
       "      <td>128.372876</td>\n",
       "      <td>NaN</td>\n",
       "      <td>NaN</td>\n",
       "      <td>120.043471</td>\n",
       "      <td>NaN</td>\n",
       "      <td>NaN</td>\n",
       "    </tr>\n",
       "    <tr>\n",
       "      <th>Eltingville</th>\n",
       "      <td>NaN</td>\n",
       "      <td>73.602261</td>\n",
       "      <td>NaN</td>\n",
       "      <td>NaN</td>\n",
       "      <td>73.602261</td>\n",
       "      <td>NaN</td>\n",
       "      <td>NaN</td>\n",
       "      <td>73.602261</td>\n",
       "      <td>NaN</td>\n",
       "    </tr>\n",
       "    <tr>\n",
       "      <th>Emerson Hill</th>\n",
       "      <td>132.921348</td>\n",
       "      <td>68.199691</td>\n",
       "      <td>NaN</td>\n",
       "      <td>132.921348</td>\n",
       "      <td>66.114506</td>\n",
       "      <td>NaN</td>\n",
       "      <td>132.921348</td>\n",
       "      <td>64.029320</td>\n",
       "      <td>NaN</td>\n",
       "    </tr>\n",
       "    <tr>\n",
       "      <th>Fort Wadsworth</th>\n",
       "      <td>145.653941</td>\n",
       "      <td>NaN</td>\n",
       "      <td>NaN</td>\n",
       "      <td>145.653941</td>\n",
       "      <td>NaN</td>\n",
       "      <td>NaN</td>\n",
       "      <td>145.653941</td>\n",
       "      <td>NaN</td>\n",
       "      <td>NaN</td>\n",
       "    </tr>\n",
       "    <tr>\n",
       "      <th>Graniteville</th>\n",
       "      <td>166.118231</td>\n",
       "      <td>NaN</td>\n",
       "      <td>NaN</td>\n",
       "      <td>166.118231</td>\n",
       "      <td>NaN</td>\n",
       "      <td>NaN</td>\n",
       "      <td>166.118231</td>\n",
       "      <td>NaN</td>\n",
       "      <td>NaN</td>\n",
       "    </tr>\n",
       "    <tr>\n",
       "      <th>Grant City</th>\n",
       "      <td>161.999038</td>\n",
       "      <td>57.815750</td>\n",
       "      <td>NaN</td>\n",
       "      <td>153.822976</td>\n",
       "      <td>57.815750</td>\n",
       "      <td>NaN</td>\n",
       "      <td>145.646915</td>\n",
       "      <td>57.815750</td>\n",
       "      <td>NaN</td>\n",
       "    </tr>\n",
       "    <tr>\n",
       "      <th>Great Kills</th>\n",
       "      <td>148.317065</td>\n",
       "      <td>NaN</td>\n",
       "      <td>NaN</td>\n",
       "      <td>148.317065</td>\n",
       "      <td>NaN</td>\n",
       "      <td>NaN</td>\n",
       "      <td>148.317065</td>\n",
       "      <td>NaN</td>\n",
       "      <td>NaN</td>\n",
       "    </tr>\n",
       "    <tr>\n",
       "      <th>Grymes Hill</th>\n",
       "      <td>NaN</td>\n",
       "      <td>45.751506</td>\n",
       "      <td>NaN</td>\n",
       "      <td>NaN</td>\n",
       "      <td>45.751506</td>\n",
       "      <td>NaN</td>\n",
       "      <td>NaN</td>\n",
       "      <td>45.751506</td>\n",
       "      <td>NaN</td>\n",
       "    </tr>\n",
       "    <tr>\n",
       "      <th>Huguenot</th>\n",
       "      <td>173.051352</td>\n",
       "      <td>NaN</td>\n",
       "      <td>NaN</td>\n",
       "      <td>162.653157</td>\n",
       "      <td>NaN</td>\n",
       "      <td>NaN</td>\n",
       "      <td>152.254962</td>\n",
       "      <td>NaN</td>\n",
       "      <td>NaN</td>\n",
       "    </tr>\n",
       "    <tr>\n",
       "      <th>Lighthouse Hill</th>\n",
       "      <td>170.324379</td>\n",
       "      <td>NaN</td>\n",
       "      <td>NaN</td>\n",
       "      <td>170.324379</td>\n",
       "      <td>NaN</td>\n",
       "      <td>NaN</td>\n",
       "      <td>170.324379</td>\n",
       "      <td>NaN</td>\n",
       "      <td>NaN</td>\n",
       "    </tr>\n",
       "    <tr>\n",
       "      <th>New Brighton</th>\n",
       "      <td>NaN</td>\n",
       "      <td>33.586179</td>\n",
       "      <td>NaN</td>\n",
       "      <td>NaN</td>\n",
       "      <td>33.586179</td>\n",
       "      <td>NaN</td>\n",
       "      <td>NaN</td>\n",
       "      <td>33.586179</td>\n",
       "      <td>NaN</td>\n",
       "    </tr>\n",
       "    <tr>\n",
       "      <th>New Dorp</th>\n",
       "      <td>138.638873</td>\n",
       "      <td>NaN</td>\n",
       "      <td>NaN</td>\n",
       "      <td>138.638873</td>\n",
       "      <td>NaN</td>\n",
       "      <td>NaN</td>\n",
       "      <td>138.638873</td>\n",
       "      <td>NaN</td>\n",
       "      <td>NaN</td>\n",
       "    </tr>\n",
       "    <tr>\n",
       "      <th>New Dorp Beach</th>\n",
       "      <td>134.612410</td>\n",
       "      <td>NaN</td>\n",
       "      <td>NaN</td>\n",
       "      <td>134.612410</td>\n",
       "      <td>NaN</td>\n",
       "      <td>NaN</td>\n",
       "      <td>134.612410</td>\n",
       "      <td>NaN</td>\n",
       "      <td>NaN</td>\n",
       "    </tr>\n",
       "    <tr>\n",
       "      <th>New Springville</th>\n",
       "      <td>NaN</td>\n",
       "      <td>58.167643</td>\n",
       "      <td>NaN</td>\n",
       "      <td>NaN</td>\n",
       "      <td>58.167643</td>\n",
       "      <td>NaN</td>\n",
       "      <td>NaN</td>\n",
       "      <td>58.167643</td>\n",
       "      <td>NaN</td>\n",
       "    </tr>\n",
       "    <tr>\n",
       "      <th>Oakwood</th>\n",
       "      <td>NaN</td>\n",
       "      <td>67.632987</td>\n",
       "      <td>NaN</td>\n",
       "      <td>NaN</td>\n",
       "      <td>67.632987</td>\n",
       "      <td>NaN</td>\n",
       "      <td>NaN</td>\n",
       "      <td>67.632987</td>\n",
       "      <td>NaN</td>\n",
       "    </tr>\n",
       "    <tr>\n",
       "      <th>Port Richmond</th>\n",
       "      <td>111.528759</td>\n",
       "      <td>80.981056</td>\n",
       "      <td>NaN</td>\n",
       "      <td>111.528759</td>\n",
       "      <td>75.746838</td>\n",
       "      <td>NaN</td>\n",
       "      <td>111.528759</td>\n",
       "      <td>71.487655</td>\n",
       "      <td>NaN</td>\n",
       "    </tr>\n",
       "    <tr>\n",
       "      <th>Randall Manor</th>\n",
       "      <td>163.336400</td>\n",
       "      <td>75.780205</td>\n",
       "      <td>NaN</td>\n",
       "      <td>148.128567</td>\n",
       "      <td>63.393327</td>\n",
       "      <td>NaN</td>\n",
       "      <td>127.653847</td>\n",
       "      <td>51.006448</td>\n",
       "      <td>NaN</td>\n",
       "    </tr>\n",
       "    <tr>\n",
       "      <th>Rosebank</th>\n",
       "      <td>137.897916</td>\n",
       "      <td>50.111458</td>\n",
       "      <td>NaN</td>\n",
       "      <td>128.695698</td>\n",
       "      <td>50.111458</td>\n",
       "      <td>NaN</td>\n",
       "      <td>116.397181</td>\n",
       "      <td>50.111458</td>\n",
       "      <td>NaN</td>\n",
       "    </tr>\n",
       "    <tr>\n",
       "      <th>Shore Acres</th>\n",
       "      <td>130.745390</td>\n",
       "      <td>37.185818</td>\n",
       "      <td>NaN</td>\n",
       "      <td>130.745390</td>\n",
       "      <td>37.185818</td>\n",
       "      <td>NaN</td>\n",
       "      <td>130.745390</td>\n",
       "      <td>37.185818</td>\n",
       "      <td>NaN</td>\n",
       "    </tr>\n",
       "    <tr>\n",
       "      <th>South Beach</th>\n",
       "      <td>NaN</td>\n",
       "      <td>63.836473</td>\n",
       "      <td>13.307830</td>\n",
       "      <td>NaN</td>\n",
       "      <td>56.956902</td>\n",
       "      <td>13.307830</td>\n",
       "      <td>NaN</td>\n",
       "      <td>44.202553</td>\n",
       "      <td>13.307830</td>\n",
       "    </tr>\n",
       "    <tr>\n",
       "      <th>St. George</th>\n",
       "      <td>151.276585</td>\n",
       "      <td>65.666180</td>\n",
       "      <td>NaN</td>\n",
       "      <td>127.407471</td>\n",
       "      <td>50.263443</td>\n",
       "      <td>NaN</td>\n",
       "      <td>105.015956</td>\n",
       "      <td>36.264278</td>\n",
       "      <td>NaN</td>\n",
       "    </tr>\n",
       "    <tr>\n",
       "      <th>Stapleton</th>\n",
       "      <td>137.759339</td>\n",
       "      <td>63.763480</td>\n",
       "      <td>NaN</td>\n",
       "      <td>124.647941</td>\n",
       "      <td>57.686170</td>\n",
       "      <td>NaN</td>\n",
       "      <td>106.290027</td>\n",
       "      <td>38.185958</td>\n",
       "      <td>NaN</td>\n",
       "    </tr>\n",
       "    <tr>\n",
       "      <th>Todt Hill</th>\n",
       "      <td>134.894157</td>\n",
       "      <td>NaN</td>\n",
       "      <td>NaN</td>\n",
       "      <td>131.514888</td>\n",
       "      <td>NaN</td>\n",
       "      <td>NaN</td>\n",
       "      <td>128.135619</td>\n",
       "      <td>NaN</td>\n",
       "      <td>NaN</td>\n",
       "    </tr>\n",
       "    <tr>\n",
       "      <th>Tompkinsville</th>\n",
       "      <td>142.470876</td>\n",
       "      <td>50.754742</td>\n",
       "      <td>NaN</td>\n",
       "      <td>129.262169</td>\n",
       "      <td>41.022525</td>\n",
       "      <td>NaN</td>\n",
       "      <td>116.991546</td>\n",
       "      <td>17.326062</td>\n",
       "      <td>NaN</td>\n",
       "    </tr>\n",
       "    <tr>\n",
       "      <th>Tottenville</th>\n",
       "      <td>206.389918</td>\n",
       "      <td>128.111220</td>\n",
       "      <td>NaN</td>\n",
       "      <td>198.052379</td>\n",
       "      <td>128.111220</td>\n",
       "      <td>NaN</td>\n",
       "      <td>189.714840</td>\n",
       "      <td>128.111220</td>\n",
       "      <td>NaN</td>\n",
       "    </tr>\n",
       "    <tr>\n",
       "      <th>West Brighton</th>\n",
       "      <td>162.458667</td>\n",
       "      <td>73.033088</td>\n",
       "      <td>NaN</td>\n",
       "      <td>146.660440</td>\n",
       "      <td>60.299657</td>\n",
       "      <td>NaN</td>\n",
       "      <td>130.862214</td>\n",
       "      <td>47.948193</td>\n",
       "      <td>NaN</td>\n",
       "    </tr>\n",
       "    <tr>\n",
       "      <th>Willowbrook</th>\n",
       "      <td>167.509591</td>\n",
       "      <td>NaN</td>\n",
       "      <td>NaN</td>\n",
       "      <td>167.509591</td>\n",
       "      <td>NaN</td>\n",
       "      <td>NaN</td>\n",
       "      <td>167.509591</td>\n",
       "      <td>NaN</td>\n",
       "      <td>NaN</td>\n",
       "    </tr>\n",
       "    <tr>\n",
       "      <th>Woodrow</th>\n",
       "      <td>161.744903</td>\n",
       "      <td>NaN</td>\n",
       "      <td>NaN</td>\n",
       "      <td>161.744903</td>\n",
       "      <td>NaN</td>\n",
       "      <td>NaN</td>\n",
       "      <td>161.744903</td>\n",
       "      <td>NaN</td>\n",
       "      <td>NaN</td>\n",
       "    </tr>\n",
       "  </tbody>\n",
       "</table>\n",
       "<p>207 rows × 9 columns</p>\n",
       "</div>"
      ],
      "text/plain": [
       "                                                price               \\\n",
       "                                                  max                \n",
       "room_type                             Entire home/apt Private room   \n",
       "neighbourhood_group neighbourhood                                    \n",
       "Bronx               Allerton               150.096426    60.622618   \n",
       "                    Baychester                    NaN    49.800700   \n",
       "                    Belmont                145.381788    70.407979   \n",
       "                    Bronxdale              134.092132    55.339975   \n",
       "                    Castle Hill            134.913425          NaN   \n",
       "                    City Island            107.359373          NaN   \n",
       "                    Claremont Village       77.877351    79.241730   \n",
       "                    Clason Point           146.280824    68.296211   \n",
       "                    Concourse              166.199302    90.110561   \n",
       "                    Concourse Village      146.592523    73.477168   \n",
       "                    East Morrisania        134.724041    65.190429   \n",
       "                    Eastchester            143.669722          NaN   \n",
       "                    Edenwald               135.335348    57.599827   \n",
       "                    Fieldston              144.094230    60.407338   \n",
       "                    Fordham                159.536568    71.312668   \n",
       "                    Highbridge             135.530309    82.931022   \n",
       "                    Hunts Point            131.265163    75.787256   \n",
       "                    Kingsbridge            159.414236    76.199624   \n",
       "                    Longwood               145.586176    80.361513   \n",
       "                    Melrose                148.035096    51.045016   \n",
       "                    Morris Heights         138.659707    83.032583   \n",
       "                    Morris Park            135.618226    58.727486   \n",
       "                    Morrisania             149.311654    61.739755   \n",
       "                    Mott Haven             157.498987    80.716297   \n",
       "                    Mount Eden                    NaN    80.242299   \n",
       "                    Mount Hope             136.420078    63.152137   \n",
       "                    North Riverdale               NaN    46.377276   \n",
       "                    Norwood                147.039406    70.693084   \n",
       "                    Parkchester            146.326685    60.199592   \n",
       "                    Pelham Bay             139.372782    36.963566   \n",
       "...                                               ...          ...   \n",
       "Staten Island       Clifton                150.832389    58.830823   \n",
       "                    Concord                126.027968    64.200818   \n",
       "                    Dongan Hills           133.104887          NaN   \n",
       "                    Eltingville                   NaN    73.602261   \n",
       "                    Emerson Hill           132.921348    68.199691   \n",
       "                    Fort Wadsworth         145.653941          NaN   \n",
       "                    Graniteville           166.118231          NaN   \n",
       "                    Grant City             161.999038    57.815750   \n",
       "                    Great Kills            148.317065          NaN   \n",
       "                    Grymes Hill                   NaN    45.751506   \n",
       "                    Huguenot               173.051352          NaN   \n",
       "                    Lighthouse Hill        170.324379          NaN   \n",
       "                    New Brighton                  NaN    33.586179   \n",
       "                    New Dorp               138.638873          NaN   \n",
       "                    New Dorp Beach         134.612410          NaN   \n",
       "                    New Springville               NaN    58.167643   \n",
       "                    Oakwood                       NaN    67.632987   \n",
       "                    Port Richmond          111.528759    80.981056   \n",
       "                    Randall Manor          163.336400    75.780205   \n",
       "                    Rosebank               137.897916    50.111458   \n",
       "                    Shore Acres            130.745390    37.185818   \n",
       "                    South Beach                   NaN    63.836473   \n",
       "                    St. George             151.276585    65.666180   \n",
       "                    Stapleton              137.759339    63.763480   \n",
       "                    Todt Hill              134.894157          NaN   \n",
       "                    Tompkinsville          142.470876    50.754742   \n",
       "                    Tottenville            206.389918   128.111220   \n",
       "                    West Brighton          162.458667    73.033088   \n",
       "                    Willowbrook            167.509591          NaN   \n",
       "                    Woodrow                161.744903          NaN   \n",
       "\n",
       "                                                                   \\\n",
       "                                                             mean   \n",
       "room_type                             Shared room Entire home/apt   \n",
       "neighbourhood_group neighbourhood                                   \n",
       "Bronx               Allerton                  NaN      129.978288   \n",
       "                    Baychester                NaN             NaN   \n",
       "                    Belmont                   NaN      145.381788   \n",
       "                    Bronxdale           35.867924      128.765798   \n",
       "                    Castle Hill               NaN      126.196505   \n",
       "                    City Island               NaN      103.902558   \n",
       "                    Claremont Village         NaN       70.416762   \n",
       "                    Clason Point              NaN      135.969071   \n",
       "                    Concourse                 NaN      145.546320   \n",
       "                    Concourse Village   27.988482      143.625279   \n",
       "                    East Morrisania           NaN      134.724041   \n",
       "                    Eastchester               NaN      142.726099   \n",
       "                    Edenwald                  NaN      125.354639   \n",
       "                    Fieldston                 NaN      144.094230   \n",
       "                    Fordham             39.856413      138.945724   \n",
       "                    Highbridge                NaN      134.530162   \n",
       "                    Hunts Point               NaN      131.265163   \n",
       "                    Kingsbridge         18.444300      136.031918   \n",
       "                    Longwood                  NaN      139.883821   \n",
       "                    Melrose                   NaN      142.390656   \n",
       "                    Morris Heights            NaN      137.941017   \n",
       "                    Morris Park               NaN      127.563476   \n",
       "                    Morrisania          42.547115      142.527773   \n",
       "                    Mott Haven                NaN      147.670918   \n",
       "                    Mount Eden                NaN             NaN   \n",
       "                    Mount Hope                NaN       98.273104   \n",
       "                    North Riverdale           NaN             NaN   \n",
       "                    Norwood                   NaN      147.039406   \n",
       "                    Parkchester         42.780692      130.398989   \n",
       "                    Pelham Bay          30.158215      127.110376   \n",
       "...                                           ...             ...   \n",
       "Staten Island       Clifton             13.659751      127.963072   \n",
       "                    Concord             15.559482      126.027968   \n",
       "                    Dongan Hills              NaN      128.372876   \n",
       "                    Eltingville               NaN             NaN   \n",
       "                    Emerson Hill              NaN      132.921348   \n",
       "                    Fort Wadsworth            NaN      145.653941   \n",
       "                    Graniteville              NaN      166.118231   \n",
       "                    Grant City                NaN      153.822976   \n",
       "                    Great Kills               NaN      148.317065   \n",
       "                    Grymes Hill               NaN             NaN   \n",
       "                    Huguenot                  NaN      162.653157   \n",
       "                    Lighthouse Hill           NaN      170.324379   \n",
       "                    New Brighton              NaN             NaN   \n",
       "                    New Dorp                  NaN      138.638873   \n",
       "                    New Dorp Beach            NaN      134.612410   \n",
       "                    New Springville           NaN             NaN   \n",
       "                    Oakwood                   NaN             NaN   \n",
       "                    Port Richmond             NaN      111.528759   \n",
       "                    Randall Manor             NaN      148.128567   \n",
       "                    Rosebank                  NaN      128.695698   \n",
       "                    Shore Acres               NaN      130.745390   \n",
       "                    South Beach         13.307830             NaN   \n",
       "                    St. George                NaN      127.407471   \n",
       "                    Stapleton                 NaN      124.647941   \n",
       "                    Todt Hill                 NaN      131.514888   \n",
       "                    Tompkinsville             NaN      129.262169   \n",
       "                    Tottenville               NaN      198.052379   \n",
       "                    West Brighton             NaN      146.660440   \n",
       "                    Willowbrook               NaN      167.509591   \n",
       "                    Woodrow                   NaN      161.744903   \n",
       "\n",
       "                                                                \\\n",
       "                                                                 \n",
       "room_type                             Private room Shared room   \n",
       "neighbourhood_group neighbourhood                                \n",
       "Bronx               Allerton             37.395083         NaN   \n",
       "                    Baychester           49.800700         NaN   \n",
       "                    Belmont              51.906268         NaN   \n",
       "                    Bronxdale            47.301428   35.867924   \n",
       "                    Castle Hill                NaN         NaN   \n",
       "                    City Island                NaN         NaN   \n",
       "                    Claremont Village    57.373639         NaN   \n",
       "                    Clason Point         58.851345         NaN   \n",
       "                    Concourse            65.551228         NaN   \n",
       "                    Concourse Village    60.384002   27.988482   \n",
       "                    East Morrisania      55.346559         NaN   \n",
       "                    Eastchester                NaN         NaN   \n",
       "                    Edenwald             57.599827         NaN   \n",
       "                    Fieldston            51.030644         NaN   \n",
       "                    Fordham              50.514703   30.154167   \n",
       "                    Highbridge           67.439437         NaN   \n",
       "                    Hunts Point          59.516741         NaN   \n",
       "                    Kingsbridge          49.355763   18.444300   \n",
       "                    Longwood             56.391347         NaN   \n",
       "                    Melrose              51.045016         NaN   \n",
       "                    Morris Heights       64.818689         NaN   \n",
       "                    Morris Park          39.768820         NaN   \n",
       "                    Morrisania           53.114577   38.347085   \n",
       "                    Mott Haven           64.117460         NaN   \n",
       "                    Mount Eden           65.066032         NaN   \n",
       "                    Mount Hope           52.734931         NaN   \n",
       "                    North Riverdale      46.377276         NaN   \n",
       "                    Norwood              49.774272         NaN   \n",
       "                    Parkchester          39.718047   29.712205   \n",
       "                    Pelham Bay           36.963566   18.399353   \n",
       "...                                            ...         ...   \n",
       "Staten Island       Clifton              58.830823   13.347682   \n",
       "                    Concord              62.254572   15.559482   \n",
       "                    Dongan Hills               NaN         NaN   \n",
       "                    Eltingville          73.602261         NaN   \n",
       "                    Emerson Hill         66.114506         NaN   \n",
       "                    Fort Wadsworth             NaN         NaN   \n",
       "                    Graniteville               NaN         NaN   \n",
       "                    Grant City           57.815750         NaN   \n",
       "                    Great Kills                NaN         NaN   \n",
       "                    Grymes Hill          45.751506         NaN   \n",
       "                    Huguenot                   NaN         NaN   \n",
       "                    Lighthouse Hill            NaN         NaN   \n",
       "                    New Brighton         33.586179         NaN   \n",
       "                    New Dorp                   NaN         NaN   \n",
       "                    New Dorp Beach             NaN         NaN   \n",
       "                    New Springville      58.167643         NaN   \n",
       "                    Oakwood              67.632987         NaN   \n",
       "                    Port Richmond        75.746838         NaN   \n",
       "                    Randall Manor        63.393327         NaN   \n",
       "                    Rosebank             50.111458         NaN   \n",
       "                    Shore Acres          37.185818         NaN   \n",
       "                    South Beach          56.956902   13.307830   \n",
       "                    St. George           50.263443         NaN   \n",
       "                    Stapleton            57.686170         NaN   \n",
       "                    Todt Hill                  NaN         NaN   \n",
       "                    Tompkinsville        41.022525         NaN   \n",
       "                    Tottenville         128.111220         NaN   \n",
       "                    West Brighton        60.299657         NaN   \n",
       "                    Willowbrook                NaN         NaN   \n",
       "                    Woodrow                    NaN         NaN   \n",
       "\n",
       "                                                                                \n",
       "                                                  min                           \n",
       "room_type                             Entire home/apt Private room Shared room  \n",
       "neighbourhood_group neighbourhood                                               \n",
       "Bronx               Allerton               118.916911    24.815114         NaN  \n",
       "                    Baychester                    NaN    49.800700         NaN  \n",
       "                    Belmont                145.381788    36.213095         NaN  \n",
       "                    Bronxdale              123.439464    39.262881   35.867924  \n",
       "                    Castle Hill            117.479585          NaN         NaN  \n",
       "                    City Island            101.483793          NaN         NaN  \n",
       "                    Claremont Village       62.956172    36.398468         NaN  \n",
       "                    Clason Point           125.657318    32.617224         NaN  \n",
       "                    Concourse              120.752979    46.001682         NaN  \n",
       "                    Concourse Village      140.658035    50.236055   27.988482  \n",
       "                    East Morrisania        134.724041    46.764912         NaN  \n",
       "                    Eastchester            141.782475          NaN         NaN  \n",
       "                    Edenwald               112.735575    57.599827         NaN  \n",
       "                    Fieldston              144.094230    41.653951         NaN  \n",
       "                    Fordham                127.900846    36.368602   20.451921  \n",
       "                    Highbridge             133.530016    53.495756         NaN  \n",
       "                    Hunts Point            131.265163    47.930503         NaN  \n",
       "                    Kingsbridge            119.700308    29.946769   18.444300  \n",
       "                    Longwood               133.696787    27.479946         NaN  \n",
       "                    Melrose                135.914185    51.045016         NaN  \n",
       "                    Morris Heights         137.222327    45.861515         NaN  \n",
       "                    Morris Park            119.508726    29.055718         NaN  \n",
       "                    Morrisania             137.316490    47.879178   34.147055  \n",
       "                    Mott Haven             142.535498    22.185093         NaN  \n",
       "                    Mount Eden                    NaN    49.889764         NaN  \n",
       "                    Mount Hope              62.052713    45.590266         NaN  \n",
       "                    North Riverdale               NaN    46.377276         NaN  \n",
       "                    Norwood                147.039406    33.674810         NaN  \n",
       "                    Parkchester            121.153038    30.800055   14.466889  \n",
       "                    Pelham Bay             108.255852    36.963566    6.640491  \n",
       "...                                               ...          ...         ...  \n",
       "Staten Island       Clifton                113.480438    58.830823   13.035612  \n",
       "                    Concord                126.027968    58.949744   15.559482  \n",
       "                    Dongan Hills           120.043471          NaN         NaN  \n",
       "                    Eltingville                   NaN    73.602261         NaN  \n",
       "                    Emerson Hill           132.921348    64.029320         NaN  \n",
       "                    Fort Wadsworth         145.653941          NaN         NaN  \n",
       "                    Graniteville           166.118231          NaN         NaN  \n",
       "                    Grant City             145.646915    57.815750         NaN  \n",
       "                    Great Kills            148.317065          NaN         NaN  \n",
       "                    Grymes Hill                   NaN    45.751506         NaN  \n",
       "                    Huguenot               152.254962          NaN         NaN  \n",
       "                    Lighthouse Hill        170.324379          NaN         NaN  \n",
       "                    New Brighton                  NaN    33.586179         NaN  \n",
       "                    New Dorp               138.638873          NaN         NaN  \n",
       "                    New Dorp Beach         134.612410          NaN         NaN  \n",
       "                    New Springville               NaN    58.167643         NaN  \n",
       "                    Oakwood                       NaN    67.632987         NaN  \n",
       "                    Port Richmond          111.528759    71.487655         NaN  \n",
       "                    Randall Manor          127.653847    51.006448         NaN  \n",
       "                    Rosebank               116.397181    50.111458         NaN  \n",
       "                    Shore Acres            130.745390    37.185818         NaN  \n",
       "                    South Beach                   NaN    44.202553   13.307830  \n",
       "                    St. George             105.015956    36.264278         NaN  \n",
       "                    Stapleton              106.290027    38.185958         NaN  \n",
       "                    Todt Hill              128.135619          NaN         NaN  \n",
       "                    Tompkinsville          116.991546    17.326062         NaN  \n",
       "                    Tottenville            189.714840   128.111220         NaN  \n",
       "                    West Brighton          130.862214    47.948193         NaN  \n",
       "                    Willowbrook            167.509591          NaN         NaN  \n",
       "                    Woodrow                161.744903          NaN         NaN  \n",
       "\n",
       "[207 rows x 9 columns]"
      ]
     },
     "execution_count": 192,
     "metadata": {},
     "output_type": "execute_result"
    }
   ],
   "source": [
    "dft_org[dft_org.price > 0].pivot_table(values = ['price'],\n",
    "                   index   = ['neighbourhood_group', 'neighbourhood'],\n",
    "                   columns = ['room_type'],\n",
    "                   aggfunc = {'price' : [min, max, np.mean]}\n",
    "                    \n",
    "                   )"
   ]
  },
  {
   "cell_type": "markdown",
   "metadata": {},
   "source": [
    "deck \n",
    "our story line\n",
    " - we worked with the given data ; poor results\n",
    " - we added multiple models ; not muh improvement\n",
    "\n",
    "- added the distance to the nearest subway station ; good improvemet but not sufficient\n",
    "\n",
    "so reco:\n",
    "\n",
    "- current data is insufficient to prdict rent with a high degree of confidence\n",
    "- recommend that we use additional features like transporattion, crime rate, etc to find relevant features"
   ]
  }
 ],
 "metadata": {
  "kernelspec": {
   "display_name": "Python 3",
   "language": "python",
   "name": "python3"
  },
  "language_info": {
   "codemirror_mode": {
    "name": "ipython",
    "version": 3
   },
   "file_extension": ".py",
   "mimetype": "text/x-python",
   "name": "python",
   "nbconvert_exporter": "python",
   "pygments_lexer": "ipython3",
   "version": "3.7.3"
  }
 },
 "nbformat": 4,
 "nbformat_minor": 2
}
