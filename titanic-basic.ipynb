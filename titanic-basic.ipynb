{
 "cells": [
  {
   "cell_type": "code",
   "execution_count": 1,
   "metadata": {
    "_cell_guid": "b1076dfc-b9ad-4769-8c92-a6c4dae69d19",
    "_uuid": "8f2839f25d086af736a60e9eeb907d3b93b6e0e5",
    "execution": {
     "iopub.execute_input": "2021-01-05T09:36:14.250700Z",
     "iopub.status.busy": "2021-01-05T09:36:14.249746Z",
     "iopub.status.idle": "2021-01-05T09:36:15.216794Z",
     "shell.execute_reply": "2021-01-05T09:36:15.217385Z"
    },
    "papermill": {
     "duration": 1.003875,
     "end_time": "2021-01-05T09:36:15.217579",
     "exception": false,
     "start_time": "2021-01-05T09:36:14.213704",
     "status": "completed"
    },
    "tags": []
   },
   "outputs": [
    {
     "name": "stdout",
     "output_type": "stream",
     "text": [
      "/kaggle/input/titanic/train.csv\n",
      "/kaggle/input/titanic/test.csv\n",
      "/kaggle/input/titanic/gender_submission.csv\n"
     ]
    }
   ],
   "source": [
    "# This Python 3 environment comes with many helpful analytics libraries installed\n",
    "# It is defined by the kaggle/python Docker image: https://github.com/kaggle/docker-python\n",
    "# For example, here's several helpful packages to load\n",
    "\n",
    "import numpy as np # linear algebra\n",
    "import pandas as pd # data processing, CSV file I/O (e.g. pd.read_csv)\n",
    "\n",
    "# Input data files are available in the read-only \"../input/\" directory\n",
    "# For example, running this (by clicking run or pressing Shift+Enter) will list all files under the input directory\n",
    "\n",
    "import os\n",
    "for dirname, _, filenames in os.walk('/kaggle/input'):\n",
    "    for filename in filenames:\n",
    "        print(os.path.join(dirname, filename))\n",
    "\n",
    "# You can write up to 20GB to the current directory (/kaggle/working/) that gets preserved as output when you create a version using \"Save & Run All\" \n",
    "# You can also write temporary files to /kaggle/temp/, but they won't be saved outside of the current session\n",
    "\n",
    "# import plotting libraries\n",
    "import matplotlib.pyplot as plt\n",
    "#import sns for better plots, it is handy to manage subplots\n",
    "import seaborn as sns"
   ]
  },
  {
   "cell_type": "code",
   "execution_count": 2,
   "metadata": {
    "_cell_guid": "79c7e3d0-c299-4dcb-8224-4455121ee9b0",
    "_uuid": "d629ff2d2480ee46fbb7e2d37f6b5fab8052498a",
    "execution": {
     "iopub.execute_input": "2021-01-05T09:36:15.280940Z",
     "iopub.status.busy": "2021-01-05T09:36:15.280320Z",
     "iopub.status.idle": "2021-01-05T09:36:15.323856Z",
     "shell.execute_reply": "2021-01-05T09:36:15.324433Z"
    },
    "papermill": {
     "duration": 0.076178,
     "end_time": "2021-01-05T09:36:15.324567",
     "exception": false,
     "start_time": "2021-01-05T09:36:15.248389",
     "status": "completed"
    },
    "tags": []
   },
   "outputs": [
    {
     "data": {
      "text/html": [
       "<div>\n",
       "<style scoped>\n",
       "    .dataframe tbody tr th:only-of-type {\n",
       "        vertical-align: middle;\n",
       "    }\n",
       "\n",
       "    .dataframe tbody tr th {\n",
       "        vertical-align: top;\n",
       "    }\n",
       "\n",
       "    .dataframe thead th {\n",
       "        text-align: right;\n",
       "    }\n",
       "</style>\n",
       "<table border=\"1\" class=\"dataframe\">\n",
       "  <thead>\n",
       "    <tr style=\"text-align: right;\">\n",
       "      <th></th>\n",
       "      <th>PassengerId</th>\n",
       "      <th>Survived</th>\n",
       "      <th>Pclass</th>\n",
       "      <th>Name</th>\n",
       "      <th>Sex</th>\n",
       "      <th>Age</th>\n",
       "      <th>SibSp</th>\n",
       "      <th>Parch</th>\n",
       "      <th>Ticket</th>\n",
       "      <th>Fare</th>\n",
       "      <th>Cabin</th>\n",
       "      <th>Embarked</th>\n",
       "    </tr>\n",
       "  </thead>\n",
       "  <tbody>\n",
       "    <tr>\n",
       "      <th>0</th>\n",
       "      <td>1</td>\n",
       "      <td>0</td>\n",
       "      <td>3</td>\n",
       "      <td>Braund, Mr. Owen Harris</td>\n",
       "      <td>male</td>\n",
       "      <td>22.0</td>\n",
       "      <td>1</td>\n",
       "      <td>0</td>\n",
       "      <td>A/5 21171</td>\n",
       "      <td>7.2500</td>\n",
       "      <td>NaN</td>\n",
       "      <td>S</td>\n",
       "    </tr>\n",
       "    <tr>\n",
       "      <th>1</th>\n",
       "      <td>2</td>\n",
       "      <td>1</td>\n",
       "      <td>1</td>\n",
       "      <td>Cumings, Mrs. John Bradley (Florence Briggs Th...</td>\n",
       "      <td>female</td>\n",
       "      <td>38.0</td>\n",
       "      <td>1</td>\n",
       "      <td>0</td>\n",
       "      <td>PC 17599</td>\n",
       "      <td>71.2833</td>\n",
       "      <td>C85</td>\n",
       "      <td>C</td>\n",
       "    </tr>\n",
       "    <tr>\n",
       "      <th>2</th>\n",
       "      <td>3</td>\n",
       "      <td>1</td>\n",
       "      <td>3</td>\n",
       "      <td>Heikkinen, Miss. Laina</td>\n",
       "      <td>female</td>\n",
       "      <td>26.0</td>\n",
       "      <td>0</td>\n",
       "      <td>0</td>\n",
       "      <td>STON/O2. 3101282</td>\n",
       "      <td>7.9250</td>\n",
       "      <td>NaN</td>\n",
       "      <td>S</td>\n",
       "    </tr>\n",
       "    <tr>\n",
       "      <th>3</th>\n",
       "      <td>4</td>\n",
       "      <td>1</td>\n",
       "      <td>1</td>\n",
       "      <td>Futrelle, Mrs. Jacques Heath (Lily May Peel)</td>\n",
       "      <td>female</td>\n",
       "      <td>35.0</td>\n",
       "      <td>1</td>\n",
       "      <td>0</td>\n",
       "      <td>113803</td>\n",
       "      <td>53.1000</td>\n",
       "      <td>C123</td>\n",
       "      <td>S</td>\n",
       "    </tr>\n",
       "    <tr>\n",
       "      <th>4</th>\n",
       "      <td>5</td>\n",
       "      <td>0</td>\n",
       "      <td>3</td>\n",
       "      <td>Allen, Mr. William Henry</td>\n",
       "      <td>male</td>\n",
       "      <td>35.0</td>\n",
       "      <td>0</td>\n",
       "      <td>0</td>\n",
       "      <td>373450</td>\n",
       "      <td>8.0500</td>\n",
       "      <td>NaN</td>\n",
       "      <td>S</td>\n",
       "    </tr>\n",
       "  </tbody>\n",
       "</table>\n",
       "</div>"
      ],
      "text/plain": [
       "   PassengerId  Survived  Pclass  \\\n",
       "0            1         0       3   \n",
       "1            2         1       1   \n",
       "2            3         1       3   \n",
       "3            4         1       1   \n",
       "4            5         0       3   \n",
       "\n",
       "                                                Name     Sex   Age  SibSp  \\\n",
       "0                            Braund, Mr. Owen Harris    male  22.0      1   \n",
       "1  Cumings, Mrs. John Bradley (Florence Briggs Th...  female  38.0      1   \n",
       "2                             Heikkinen, Miss. Laina  female  26.0      0   \n",
       "3       Futrelle, Mrs. Jacques Heath (Lily May Peel)  female  35.0      1   \n",
       "4                           Allen, Mr. William Henry    male  35.0      0   \n",
       "\n",
       "   Parch            Ticket     Fare Cabin Embarked  \n",
       "0      0         A/5 21171   7.2500   NaN        S  \n",
       "1      0          PC 17599  71.2833   C85        C  \n",
       "2      0  STON/O2. 3101282   7.9250   NaN        S  \n",
       "3      0            113803  53.1000  C123        S  \n",
       "4      0            373450   8.0500   NaN        S  "
      ]
     },
     "execution_count": 2,
     "metadata": {},
     "output_type": "execute_result"
    }
   ],
   "source": [
    "data = pd.read_csv(\"/kaggle/input/titanic/train.csv\")\n",
    "data.head(5)"
   ]
  },
  {
   "cell_type": "markdown",
   "metadata": {
    "papermill": {
     "duration": 0.030488,
     "end_time": "2021-01-05T09:36:15.385613",
     "exception": false,
     "start_time": "2021-01-05T09:36:15.355125",
     "status": "completed"
    },
    "tags": []
   },
   "source": [
    "## Exploratory Data Analysis"
   ]
  },
  {
   "cell_type": "markdown",
   "metadata": {
    "papermill": {
     "duration": 0.029699,
     "end_time": "2021-01-05T09:36:15.446410",
     "exception": false,
     "start_time": "2021-01-05T09:36:15.416711",
     "status": "completed"
    },
    "tags": []
   },
   "source": [
    "An overview of the dataset by calling describe().\n",
    " \n",
    "What information can be extracted?\n",
    "how many survived?\n",
    "Is there any missing values?"
   ]
  },
  {
   "cell_type": "code",
   "execution_count": 3,
   "metadata": {
    "execution": {
     "iopub.execute_input": "2021-01-05T09:36:15.509464Z",
     "iopub.status.busy": "2021-01-05T09:36:15.508831Z",
     "iopub.status.idle": "2021-01-05T09:36:15.540224Z",
     "shell.execute_reply": "2021-01-05T09:36:15.540803Z"
    },
    "papermill": {
     "duration": 0.064544,
     "end_time": "2021-01-05T09:36:15.540945",
     "exception": false,
     "start_time": "2021-01-05T09:36:15.476401",
     "status": "completed"
    },
    "tags": []
   },
   "outputs": [
    {
     "data": {
      "text/html": [
       "<div>\n",
       "<style scoped>\n",
       "    .dataframe tbody tr th:only-of-type {\n",
       "        vertical-align: middle;\n",
       "    }\n",
       "\n",
       "    .dataframe tbody tr th {\n",
       "        vertical-align: top;\n",
       "    }\n",
       "\n",
       "    .dataframe thead th {\n",
       "        text-align: right;\n",
       "    }\n",
       "</style>\n",
       "<table border=\"1\" class=\"dataframe\">\n",
       "  <thead>\n",
       "    <tr style=\"text-align: right;\">\n",
       "      <th></th>\n",
       "      <th>PassengerId</th>\n",
       "      <th>Survived</th>\n",
       "      <th>Pclass</th>\n",
       "      <th>Age</th>\n",
       "      <th>SibSp</th>\n",
       "      <th>Parch</th>\n",
       "      <th>Fare</th>\n",
       "    </tr>\n",
       "  </thead>\n",
       "  <tbody>\n",
       "    <tr>\n",
       "      <th>count</th>\n",
       "      <td>891.000000</td>\n",
       "      <td>891.000000</td>\n",
       "      <td>891.000000</td>\n",
       "      <td>714.000000</td>\n",
       "      <td>891.000000</td>\n",
       "      <td>891.000000</td>\n",
       "      <td>891.000000</td>\n",
       "    </tr>\n",
       "    <tr>\n",
       "      <th>mean</th>\n",
       "      <td>446.000000</td>\n",
       "      <td>0.383838</td>\n",
       "      <td>2.308642</td>\n",
       "      <td>29.699118</td>\n",
       "      <td>0.523008</td>\n",
       "      <td>0.381594</td>\n",
       "      <td>32.204208</td>\n",
       "    </tr>\n",
       "    <tr>\n",
       "      <th>std</th>\n",
       "      <td>257.353842</td>\n",
       "      <td>0.486592</td>\n",
       "      <td>0.836071</td>\n",
       "      <td>14.526497</td>\n",
       "      <td>1.102743</td>\n",
       "      <td>0.806057</td>\n",
       "      <td>49.693429</td>\n",
       "    </tr>\n",
       "    <tr>\n",
       "      <th>min</th>\n",
       "      <td>1.000000</td>\n",
       "      <td>0.000000</td>\n",
       "      <td>1.000000</td>\n",
       "      <td>0.420000</td>\n",
       "      <td>0.000000</td>\n",
       "      <td>0.000000</td>\n",
       "      <td>0.000000</td>\n",
       "    </tr>\n",
       "    <tr>\n",
       "      <th>25%</th>\n",
       "      <td>223.500000</td>\n",
       "      <td>0.000000</td>\n",
       "      <td>2.000000</td>\n",
       "      <td>20.125000</td>\n",
       "      <td>0.000000</td>\n",
       "      <td>0.000000</td>\n",
       "      <td>7.910400</td>\n",
       "    </tr>\n",
       "    <tr>\n",
       "      <th>50%</th>\n",
       "      <td>446.000000</td>\n",
       "      <td>0.000000</td>\n",
       "      <td>3.000000</td>\n",
       "      <td>28.000000</td>\n",
       "      <td>0.000000</td>\n",
       "      <td>0.000000</td>\n",
       "      <td>14.454200</td>\n",
       "    </tr>\n",
       "    <tr>\n",
       "      <th>75%</th>\n",
       "      <td>668.500000</td>\n",
       "      <td>1.000000</td>\n",
       "      <td>3.000000</td>\n",
       "      <td>38.000000</td>\n",
       "      <td>1.000000</td>\n",
       "      <td>0.000000</td>\n",
       "      <td>31.000000</td>\n",
       "    </tr>\n",
       "    <tr>\n",
       "      <th>max</th>\n",
       "      <td>891.000000</td>\n",
       "      <td>1.000000</td>\n",
       "      <td>3.000000</td>\n",
       "      <td>80.000000</td>\n",
       "      <td>8.000000</td>\n",
       "      <td>6.000000</td>\n",
       "      <td>512.329200</td>\n",
       "    </tr>\n",
       "  </tbody>\n",
       "</table>\n",
       "</div>"
      ],
      "text/plain": [
       "       PassengerId    Survived      Pclass         Age       SibSp  \\\n",
       "count   891.000000  891.000000  891.000000  714.000000  891.000000   \n",
       "mean    446.000000    0.383838    2.308642   29.699118    0.523008   \n",
       "std     257.353842    0.486592    0.836071   14.526497    1.102743   \n",
       "min       1.000000    0.000000    1.000000    0.420000    0.000000   \n",
       "25%     223.500000    0.000000    2.000000   20.125000    0.000000   \n",
       "50%     446.000000    0.000000    3.000000   28.000000    0.000000   \n",
       "75%     668.500000    1.000000    3.000000   38.000000    1.000000   \n",
       "max     891.000000    1.000000    3.000000   80.000000    8.000000   \n",
       "\n",
       "            Parch        Fare  \n",
       "count  891.000000  891.000000  \n",
       "mean     0.381594   32.204208  \n",
       "std      0.806057   49.693429  \n",
       "min      0.000000    0.000000  \n",
       "25%      0.000000    7.910400  \n",
       "50%      0.000000   14.454200  \n",
       "75%      0.000000   31.000000  \n",
       "max      6.000000  512.329200  "
      ]
     },
     "execution_count": 3,
     "metadata": {},
     "output_type": "execute_result"
    }
   ],
   "source": [
    "data.describe()"
   ]
  },
  {
   "cell_type": "markdown",
   "metadata": {
    "papermill": {
     "duration": 0.031254,
     "end_time": "2021-01-05T09:36:15.603101",
     "exception": false,
     "start_time": "2021-01-05T09:36:15.571847",
     "status": "completed"
    },
    "tags": []
   },
   "source": [
    "The variables are in different types: categorical (sex, embarked, sibsp, parch, embarked), Ordinal (pclass), and continuous (age). And we visualize them in different ways"
   ]
  },
  {
   "cell_type": "markdown",
   "metadata": {
    "papermill": {
     "duration": 0.030427,
     "end_time": "2021-01-05T09:36:15.663661",
     "exception": false,
     "start_time": "2021-01-05T09:36:15.633234",
     "status": "completed"
    },
    "tags": []
   },
   "source": [
    "### **visualize catgorical & Ordinal variables**"
   ]
  },
  {
   "cell_type": "markdown",
   "metadata": {
    "papermill": {
     "duration": 0.030426,
     "end_time": "2021-01-05T09:36:15.724727",
     "exception": false,
     "start_time": "2021-01-05T09:36:15.694301",
     "status": "completed"
    },
    "tags": []
   },
   "source": [
    "* survivial rate is low (< 40%)\n",
    "* age has missing values, and it spreads out widely\n",
    "* it is hard to tell much about the categorical/ordinal variables by this way\n",
    "* Ticket feature may be dropped from our analysis as it contains high ratio of duplicates (22%) and there may not be a correlation between Ticket and survival.\n",
    "* Cabin feature may be dropped as it is highly incomplete or contains many null values both in training and test dataset.\n",
    "* PassengerId may be dropped from training dataset as it does not contribute to survival.\n",
    "* Name feature is relatively non-standard, may not contribute directly to survival.\n",
    "* ....\n",
    "we look for a better way to explore the relationships --> plots"
   ]
  },
  {
   "cell_type": "code",
   "execution_count": 4,
   "metadata": {
    "execution": {
     "iopub.execute_input": "2021-01-05T09:36:15.790835Z",
     "iopub.status.busy": "2021-01-05T09:36:15.790200Z",
     "iopub.status.idle": "2021-01-05T09:36:16.083611Z",
     "shell.execute_reply": "2021-01-05T09:36:16.084124Z"
    },
    "papermill": {
     "duration": 0.328415,
     "end_time": "2021-01-05T09:36:16.084260",
     "exception": false,
     "start_time": "2021-01-05T09:36:15.755845",
     "status": "completed"
    },
    "tags": []
   },
   "outputs": [
    {
     "data": {
      "text/plain": [
       "<seaborn.axisgrid.FacetGrid at 0x7f2a462320d0>"
      ]
     },
     "execution_count": 4,
     "metadata": {},
     "output_type": "execute_result"
    },
    {
     "data": {
      "image/png": "[encoded data removed]",
      "text/plain": [
       "<Figure size 360x360 with 1 Axes>"
      ]
     },
     "metadata": {
      "needs_background": "light"
     },
     "output_type": "display_data"
    }
   ],
   "source": [
    "# plotting only one variable\n",
    "sns.catplot(x=\"Sex\", y=\"Survived\", kind=\"bar\",data=data)"
   ]
  },
  {
   "cell_type": "code",
   "execution_count": 5,
   "metadata": {
    "collapsed": true,
    "execution": {
     "iopub.execute_input": "2021-01-05T09:36:16.155118Z",
     "iopub.status.busy": "2021-01-05T09:36:16.154490Z",
     "iopub.status.idle": "2021-01-05T09:36:16.413944Z",
     "shell.execute_reply": "2021-01-05T09:36:16.413433Z"
    },
    "papermill": {
     "duration": 0.297421,
     "end_time": "2021-01-05T09:36:16.414089",
     "exception": false,
     "start_time": "2021-01-05T09:36:16.116668",
     "status": "completed"
    },
    "tags": []
   },
   "outputs": [
    {
     "data": {
      "text/plain": [
       "<seaborn.axisgrid.FacetGrid at 0x7f2a45ee3fd0>"
      ]
     },
     "execution_count": 5,
     "metadata": {},
     "output_type": "execute_result"
    },
    {
     "data": {
      "image/png": "[encoded data removed]",
      "text/plain": [
       "<Figure size 360x360 with 1 Axes>"
      ]
     },
     "metadata": {
      "needs_background": "light"
     },
     "output_type": "display_data"
    }
   ],
   "source": [
    "# similarly one can plot any other categorical & Ordinal variable\n",
    "sns.catplot(x=\"Pclass\", y=\"Survived\", kind=\"bar\",data=data)"
   ]
  },
  {
   "cell_type": "code",
   "execution_count": 6,
   "metadata": {
    "collapsed": true,
    "execution": {
     "iopub.execute_input": "2021-01-05T09:36:16.486746Z",
     "iopub.status.busy": "2021-01-05T09:36:16.486090Z",
     "iopub.status.idle": "2021-01-05T09:36:16.924506Z",
     "shell.execute_reply": "2021-01-05T09:36:16.923421Z"
    },
    "papermill": {
     "duration": 0.477179,
     "end_time": "2021-01-05T09:36:16.924630",
     "exception": false,
     "start_time": "2021-01-05T09:36:16.447451",
     "status": "completed"
    },
    "tags": []
   },
   "outputs": [
    {
     "data": {
      "text/plain": [
       "<seaborn.axisgrid.FacetGrid at 0x7f2a45e9a190>"
      ]
     },
     "execution_count": 6,
     "metadata": {},
     "output_type": "execute_result"
    },
    {
     "data": {
      "image/png": "[encoded data removed]",
      "text/plain": [
       "<Figure size 402.375x360 with 1 Axes>"
      ]
     },
     "metadata": {
      "needs_background": "light"
     },
     "output_type": "display_data"
    }
   ],
   "source": [
    "# plot multiple variables together\n",
    "sns.catplot(x=\"Sex\", y=\"Survived\", hue=\"Pclass\", kind=\"bar\", data=data)"
   ]
  },
  {
   "cell_type": "code",
   "execution_count": 7,
   "metadata": {
    "collapsed": true,
    "execution": {
     "iopub.execute_input": "2021-01-05T09:36:16.997252Z",
     "iopub.status.busy": "2021-01-05T09:36:16.996637Z",
     "iopub.status.idle": "2021-01-05T09:36:17.404140Z",
     "shell.execute_reply": "2021-01-05T09:36:17.404921Z"
    },
    "papermill": {
     "duration": 0.447508,
     "end_time": "2021-01-05T09:36:17.405151",
     "exception": false,
     "start_time": "2021-01-05T09:36:16.957643",
     "status": "completed"
    },
    "tags": []
   },
   "outputs": [
    {
     "data": {
      "text/plain": [
       "<seaborn.axisgrid.FacetGrid at 0x7f2a45d7e710>"
      ]
     },
     "execution_count": 7,
     "metadata": {},
     "output_type": "execute_result"
    },
    {
     "data": {
      "image/png": "[encoded data removed]",
      "text/plain": [
       "<Figure size 430.5x360 with 1 Axes>"
      ]
     },
     "metadata": {
      "needs_background": "light"
     },
     "output_type": "display_data"
    }
   ],
   "source": [
    "#An alternative style for visualizing the same information is offered by the pointplot() function. \n",
    "#This function also encodes the value of the estimate with height on the other axis, \n",
    "#but rather than showing a full bar, it plots the point estimate and confidence interval. \n",
    "#Additionally, pointplot() connects points from the same hue category. \n",
    "#This makes it easy to see how the main relationship is changing as a function of the hue semantic, \n",
    "#because your eyes are quite good at picking up on differences of slopes:\n",
    "sns.catplot(x=\"Pclass\", y=\"Survived\", hue=\"Sex\", kind=\"point\", data=data)\n",
    "# this confirms that there is an interaction effect between sex and pclass"
   ]
  },
  {
   "cell_type": "code",
   "execution_count": 8,
   "metadata": {
    "execution": {
     "iopub.execute_input": "2021-01-05T09:36:17.480926Z",
     "iopub.status.busy": "2021-01-05T09:36:17.480328Z",
     "iopub.status.idle": "2021-01-05T09:36:17.492745Z",
     "shell.execute_reply": "2021-01-05T09:36:17.492110Z"
    },
    "papermill": {
     "duration": 0.050647,
     "end_time": "2021-01-05T09:36:17.492857",
     "exception": false,
     "start_time": "2021-01-05T09:36:17.442210",
     "status": "completed"
    },
    "tags": []
   },
   "outputs": [
    {
     "data": {
      "text/plain": [
       "Sex\n",
       "female    0.742038\n",
       "male      0.188908\n",
       "Name: Survived, dtype: float64"
      ]
     },
     "execution_count": 8,
     "metadata": {},
     "output_type": "execute_result"
    }
   ],
   "source": [
    "data.groupby('Sex')['Survived'].mean()"
   ]
  },
  {
   "cell_type": "code",
   "execution_count": 9,
   "metadata": {
    "execution": {
     "iopub.execute_input": "2021-01-05T09:36:17.571722Z",
     "iopub.status.busy": "2021-01-05T09:36:17.570709Z",
     "iopub.status.idle": "2021-01-05T09:36:17.578264Z",
     "shell.execute_reply": "2021-01-05T09:36:17.578759Z"
    },
    "papermill": {
     "duration": 0.049675,
     "end_time": "2021-01-05T09:36:17.578888",
     "exception": false,
     "start_time": "2021-01-05T09:36:17.529213",
     "status": "completed"
    },
    "tags": []
   },
   "outputs": [
    {
     "data": {
      "text/plain": [
       "Pclass  Sex   \n",
       "1       female    0.968085\n",
       "        male      0.368852\n",
       "2       female    0.921053\n",
       "        male      0.157407\n",
       "3       female    0.500000\n",
       "        male      0.135447\n",
       "Name: Survived, dtype: float64"
      ]
     },
     "execution_count": 9,
     "metadata": {},
     "output_type": "execute_result"
    }
   ],
   "source": [
    "# similarly one can calculate the survival rate for Pclass or any other categorical & ordinal variable\n",
    "# or, calculate the survival rate in combination of a few variables\n",
    "data.groupby(['Pclass', 'Sex'])['Survived'].mean()"
   ]
  },
  {
   "cell_type": "markdown",
   "metadata": {
    "papermill": {
     "duration": 0.038727,
     "end_time": "2021-01-05T09:36:17.654536",
     "exception": false,
     "start_time": "2021-01-05T09:36:17.615809",
     "status": "completed"
    },
    "tags": []
   },
   "source": [
    "### **visualize continuous variables**"
   ]
  },
  {
   "cell_type": "markdown",
   "metadata": {
    "papermill": {
     "duration": 0.037561,
     "end_time": "2021-01-05T09:36:17.730055",
     "exception": false,
     "start_time": "2021-01-05T09:36:17.692494",
     "status": "completed"
    },
    "tags": []
   },
   "source": [
    "lets look at continuous variable (age) now.\n",
    "But remember there was one problem? And what kind of plots do you think is good for visualizing continuous values?"
   ]
  },
  {
   "cell_type": "markdown",
   "metadata": {
    "papermill": {
     "duration": 0.037368,
     "end_time": "2021-01-05T09:36:17.805277",
     "exception": false,
     "start_time": "2021-01-05T09:36:17.767909",
     "status": "completed"
    },
    "tags": []
   },
   "source": [
    "Age has missing value.                         \n",
    "How to interpolate the missing ages? By mean? By mode?"
   ]
  },
  {
   "cell_type": "code",
   "execution_count": 10,
   "metadata": {
    "collapsed": true,
    "execution": {
     "iopub.execute_input": "2021-01-05T09:36:17.882466Z",
     "iopub.status.busy": "2021-01-05T09:36:17.881510Z",
     "iopub.status.idle": "2021-01-05T09:36:18.216777Z",
     "shell.execute_reply": "2021-01-05T09:36:18.217358Z"
    },
    "papermill": {
     "duration": 0.375462,
     "end_time": "2021-01-05T09:36:18.217507",
     "exception": false,
     "start_time": "2021-01-05T09:36:17.842045",
     "status": "completed"
    },
    "tags": []
   },
   "outputs": [
    {
     "data": {
      "text/html": [
       "<style  type=\"text/css\" >\n",
       "#T_7656b990_4f39_11eb_8fd1_0242ac130202row0_col0,#T_7656b990_4f39_11eb_8fd1_0242ac130202row0_col1,#T_7656b990_4f39_11eb_8fd1_0242ac130202row0_col3,#T_7656b990_4f39_11eb_8fd1_0242ac130202row0_col4,#T_7656b990_4f39_11eb_8fd1_0242ac130202row0_col5,#T_7656b990_4f39_11eb_8fd1_0242ac130202row0_col7,#T_7656b990_4f39_11eb_8fd1_0242ac130202row0_col8,#T_7656b990_4f39_11eb_8fd1_0242ac130202row0_col12,#T_7656b990_4f39_11eb_8fd1_0242ac130202row0_col15,#T_7656b990_4f39_11eb_8fd1_0242ac130202row0_col16,#T_7656b990_4f39_11eb_8fd1_0242ac130202row1_col2,#T_7656b990_4f39_11eb_8fd1_0242ac130202row1_col6,#T_7656b990_4f39_11eb_8fd1_0242ac130202row1_col9,#T_7656b990_4f39_11eb_8fd1_0242ac130202row1_col10,#T_7656b990_4f39_11eb_8fd1_0242ac130202row1_col11,#T_7656b990_4f39_11eb_8fd1_0242ac130202row1_col13,#T_7656b990_4f39_11eb_8fd1_0242ac130202row1_col14{\n",
       "            background-color:  #ffff66;\n",
       "            color:  #000000;\n",
       "        }#T_7656b990_4f39_11eb_8fd1_0242ac130202row0_col2,#T_7656b990_4f39_11eb_8fd1_0242ac130202row0_col6,#T_7656b990_4f39_11eb_8fd1_0242ac130202row0_col9,#T_7656b990_4f39_11eb_8fd1_0242ac130202row0_col10,#T_7656b990_4f39_11eb_8fd1_0242ac130202row0_col11,#T_7656b990_4f39_11eb_8fd1_0242ac130202row0_col13,#T_7656b990_4f39_11eb_8fd1_0242ac130202row0_col14,#T_7656b990_4f39_11eb_8fd1_0242ac130202row1_col0,#T_7656b990_4f39_11eb_8fd1_0242ac130202row1_col1,#T_7656b990_4f39_11eb_8fd1_0242ac130202row1_col3,#T_7656b990_4f39_11eb_8fd1_0242ac130202row1_col4,#T_7656b990_4f39_11eb_8fd1_0242ac130202row1_col5,#T_7656b990_4f39_11eb_8fd1_0242ac130202row1_col7,#T_7656b990_4f39_11eb_8fd1_0242ac130202row1_col8,#T_7656b990_4f39_11eb_8fd1_0242ac130202row1_col12,#T_7656b990_4f39_11eb_8fd1_0242ac130202row1_col15,#T_7656b990_4f39_11eb_8fd1_0242ac130202row1_col16{\n",
       "            background-color:  #008066;\n",
       "            color:  #f1f1f1;\n",
       "        }</style><table id=\"T_7656b990_4f39_11eb_8fd1_0242ac130202\" ><thead>    <tr>        <th class=\"index_name level0\" >Initial</th>        <th class=\"col_heading level0 col0\" >Capt</th>        <th class=\"col_heading level0 col1\" >Col</th>        <th class=\"col_heading level0 col2\" >Countess</th>        <th class=\"col_heading level0 col3\" >Don</th>        <th class=\"col_heading level0 col4\" >Dr</th>        <th class=\"col_heading level0 col5\" >Jonkheer</th>        <th class=\"col_heading level0 col6\" >Lady</th>        <th class=\"col_heading level0 col7\" >Major</th>        <th class=\"col_heading level0 col8\" >Master</th>        <th class=\"col_heading level0 col9\" >Miss</th>        <th class=\"col_heading level0 col10\" >Mlle</th>        <th class=\"col_heading level0 col11\" >Mme</th>        <th class=\"col_heading level0 col12\" >Mr</th>        <th class=\"col_heading level0 col13\" >Mrs</th>        <th class=\"col_heading level0 col14\" >Ms</th>        <th class=\"col_heading level0 col15\" >Rev</th>        <th class=\"col_heading level0 col16\" >Sir</th>    </tr>    <tr>        <th class=\"index_name level0\" >Sex</th>        <th class=\"blank\" ></th>        <th class=\"blank\" ></th>        <th class=\"blank\" ></th>        <th class=\"blank\" ></th>        <th class=\"blank\" ></th>        <th class=\"blank\" ></th>        <th class=\"blank\" ></th>        <th class=\"blank\" ></th>        <th class=\"blank\" ></th>        <th class=\"blank\" ></th>        <th class=\"blank\" ></th>        <th class=\"blank\" ></th>        <th class=\"blank\" ></th>        <th class=\"blank\" ></th>        <th class=\"blank\" ></th>        <th class=\"blank\" ></th>        <th class=\"blank\" ></th>    </tr></thead><tbody>\n",
       "                <tr>\n",
       "                        <th id=\"T_7656b990_4f39_11eb_8fd1_0242ac130202level0_row0\" class=\"row_heading level0 row0\" >female</th>\n",
       "                        <td id=\"T_7656b990_4f39_11eb_8fd1_0242ac130202row0_col0\" class=\"data row0 col0\" >0</td>\n",
       "                        <td id=\"T_7656b990_4f39_11eb_8fd1_0242ac130202row0_col1\" class=\"data row0 col1\" >0</td>\n",
       "                        <td id=\"T_7656b990_4f39_11eb_8fd1_0242ac130202row0_col2\" class=\"data row0 col2\" >1</td>\n",
       "                        <td id=\"T_7656b990_4f39_11eb_8fd1_0242ac130202row0_col3\" class=\"data row0 col3\" >0</td>\n",
       "                        <td id=\"T_7656b990_4f39_11eb_8fd1_0242ac130202row0_col4\" class=\"data row0 col4\" >1</td>\n",
       "                        <td id=\"T_7656b990_4f39_11eb_8fd1_0242ac130202row0_col5\" class=\"data row0 col5\" >0</td>\n",
       "                        <td id=\"T_7656b990_4f39_11eb_8fd1_0242ac130202row0_col6\" class=\"data row0 col6\" >1</td>\n",
       "                        <td id=\"T_7656b990_4f39_11eb_8fd1_0242ac130202row0_col7\" class=\"data row0 col7\" >0</td>\n",
       "                        <td id=\"T_7656b990_4f39_11eb_8fd1_0242ac130202row0_col8\" class=\"data row0 col8\" >0</td>\n",
       "                        <td id=\"T_7656b990_4f39_11eb_8fd1_0242ac130202row0_col9\" class=\"data row0 col9\" >182</td>\n",
       "                        <td id=\"T_7656b990_4f39_11eb_8fd1_0242ac130202row0_col10\" class=\"data row0 col10\" >2</td>\n",
       "                        <td id=\"T_7656b990_4f39_11eb_8fd1_0242ac130202row0_col11\" class=\"data row0 col11\" >1</td>\n",
       "                        <td id=\"T_7656b990_4f39_11eb_8fd1_0242ac130202row0_col12\" class=\"data row0 col12\" >0</td>\n",
       "                        <td id=\"T_7656b990_4f39_11eb_8fd1_0242ac130202row0_col13\" class=\"data row0 col13\" >125</td>\n",
       "                        <td id=\"T_7656b990_4f39_11eb_8fd1_0242ac130202row0_col14\" class=\"data row0 col14\" >1</td>\n",
       "                        <td id=\"T_7656b990_4f39_11eb_8fd1_0242ac130202row0_col15\" class=\"data row0 col15\" >0</td>\n",
       "                        <td id=\"T_7656b990_4f39_11eb_8fd1_0242ac130202row0_col16\" class=\"data row0 col16\" >0</td>\n",
       "            </tr>\n",
       "            <tr>\n",
       "                        <th id=\"T_7656b990_4f39_11eb_8fd1_0242ac130202level0_row1\" class=\"row_heading level0 row1\" >male</th>\n",
       "                        <td id=\"T_7656b990_4f39_11eb_8fd1_0242ac130202row1_col0\" class=\"data row1 col0\" >1</td>\n",
       "                        <td id=\"T_7656b990_4f39_11eb_8fd1_0242ac130202row1_col1\" class=\"data row1 col1\" >2</td>\n",
       "                        <td id=\"T_7656b990_4f39_11eb_8fd1_0242ac130202row1_col2\" class=\"data row1 col2\" >0</td>\n",
       "                        <td id=\"T_7656b990_4f39_11eb_8fd1_0242ac130202row1_col3\" class=\"data row1 col3\" >1</td>\n",
       "                        <td id=\"T_7656b990_4f39_11eb_8fd1_0242ac130202row1_col4\" class=\"data row1 col4\" >6</td>\n",
       "                        <td id=\"T_7656b990_4f39_11eb_8fd1_0242ac130202row1_col5\" class=\"data row1 col5\" >1</td>\n",
       "                        <td id=\"T_7656b990_4f39_11eb_8fd1_0242ac130202row1_col6\" class=\"data row1 col6\" >0</td>\n",
       "                        <td id=\"T_7656b990_4f39_11eb_8fd1_0242ac130202row1_col7\" class=\"data row1 col7\" >2</td>\n",
       "                        <td id=\"T_7656b990_4f39_11eb_8fd1_0242ac130202row1_col8\" class=\"data row1 col8\" >40</td>\n",
       "                        <td id=\"T_7656b990_4f39_11eb_8fd1_0242ac130202row1_col9\" class=\"data row1 col9\" >0</td>\n",
       "                        <td id=\"T_7656b990_4f39_11eb_8fd1_0242ac130202row1_col10\" class=\"data row1 col10\" >0</td>\n",
       "                        <td id=\"T_7656b990_4f39_11eb_8fd1_0242ac130202row1_col11\" class=\"data row1 col11\" >0</td>\n",
       "                        <td id=\"T_7656b990_4f39_11eb_8fd1_0242ac130202row1_col12\" class=\"data row1 col12\" >517</td>\n",
       "                        <td id=\"T_7656b990_4f39_11eb_8fd1_0242ac130202row1_col13\" class=\"data row1 col13\" >0</td>\n",
       "                        <td id=\"T_7656b990_4f39_11eb_8fd1_0242ac130202row1_col14\" class=\"data row1 col14\" >0</td>\n",
       "                        <td id=\"T_7656b990_4f39_11eb_8fd1_0242ac130202row1_col15\" class=\"data row1 col15\" >6</td>\n",
       "                        <td id=\"T_7656b990_4f39_11eb_8fd1_0242ac130202row1_col16\" class=\"data row1 col16\" >1</td>\n",
       "            </tr>\n",
       "    </tbody></table>"
      ],
      "text/plain": [
       "<pandas.io.formats.style.Styler at 0x7f2a45d01d10>"
      ]
     },
     "execution_count": 10,
     "metadata": {},
     "output_type": "execute_result"
    }
   ],
   "source": [
    "# use other features to interpolate the missing age\n",
    "# this part is taking from another notebook\n",
    "# https://www.kaggle.com/ash316/eda-to-prediction-dietanic\n",
    "data['Initial']=0\n",
    "for i in data:\n",
    "    data['Initial']=data.Name.str.extract('([A-Za-z]+)\\.') #lets extract the Salutations\n",
    "pd.crosstab(data.Initial,data.Sex).T.style.background_gradient(cmap='summer_r') #Checking the Initials with the Sex"
   ]
  },
  {
   "cell_type": "code",
   "execution_count": 11,
   "metadata": {
    "collapsed": true,
    "execution": {
     "iopub.execute_input": "2021-01-05T09:36:18.296721Z",
     "iopub.status.busy": "2021-01-05T09:36:18.295706Z",
     "iopub.status.idle": "2021-01-05T09:36:18.310329Z",
     "shell.execute_reply": "2021-01-05T09:36:18.310775Z"
    },
    "papermill": {
     "duration": 0.055577,
     "end_time": "2021-01-05T09:36:18.310922",
     "exception": false,
     "start_time": "2021-01-05T09:36:18.255345",
     "status": "completed"
    },
    "tags": []
   },
   "outputs": [
    {
     "data": {
      "text/plain": [
       "Initial\n",
       "Master     4.574167\n",
       "Miss      21.860000\n",
       "Mr        32.739609\n",
       "Mrs       35.981818\n",
       "Other     45.888889\n",
       "Name: Age, dtype: float64"
      ]
     },
     "execution_count": 11,
     "metadata": {},
     "output_type": "execute_result"
    }
   ],
   "source": [
    "data['Initial'].replace(['Mlle','Mme','Ms','Dr','Major','Lady','Countess','Jonkheer','Col','Rev','Capt','Sir','Don'],\n",
    "                        ['Miss','Miss','Miss','Mr','Mr','Mrs','Mrs','Other','Other','Other','Mr','Mr','Mr'],inplace=True)\n",
    "data.groupby('Initial')['Age'].mean() #lets check the average age by Initials"
   ]
  },
  {
   "cell_type": "code",
   "execution_count": 12,
   "metadata": {
    "collapsed": true,
    "execution": {
     "iopub.execute_input": "2021-01-05T09:36:18.390966Z",
     "iopub.status.busy": "2021-01-05T09:36:18.390355Z",
     "iopub.status.idle": "2021-01-05T09:36:18.408887Z",
     "shell.execute_reply": "2021-01-05T09:36:18.409414Z"
    },
    "papermill": {
     "duration": 0.060385,
     "end_time": "2021-01-05T09:36:18.409575",
     "exception": false,
     "start_time": "2021-01-05T09:36:18.349190",
     "status": "completed"
    },
    "tags": []
   },
   "outputs": [
    {
     "data": {
      "text/plain": [
       "False"
      ]
     },
     "execution_count": 12,
     "metadata": {},
     "output_type": "execute_result"
    }
   ],
   "source": [
    "## Assigning the NaN Values with the Ceil values of the mean ages\n",
    "data.loc[(data.Age.isnull())&(data.Initial=='Mr'),'Age']=33\n",
    "data.loc[(data.Age.isnull())&(data.Initial=='Mrs'),'Age']=36\n",
    "data.loc[(data.Age.isnull())&(data.Initial=='Master'),'Age']=5\n",
    "data.loc[(data.Age.isnull())&(data.Initial=='Miss'),'Age']=22\n",
    "data.loc[(data.Age.isnull())&(data.Initial=='Other'),'Age']=46\n",
    "data.Age.isnull().any() #So no null values left finally "
   ]
  },
  {
   "cell_type": "code",
   "execution_count": 13,
   "metadata": {
    "execution": {
     "iopub.execute_input": "2021-01-05T09:36:18.491243Z",
     "iopub.status.busy": "2021-01-05T09:36:18.490555Z",
     "iopub.status.idle": "2021-01-05T09:36:18.829715Z",
     "shell.execute_reply": "2021-01-05T09:36:18.829053Z"
    },
    "papermill": {
     "duration": 0.381236,
     "end_time": "2021-01-05T09:36:18.829837",
     "exception": false,
     "start_time": "2021-01-05T09:36:18.448601",
     "status": "completed"
    },
    "tags": []
   },
   "outputs": [
    {
     "data": {
      "text/plain": [
       "Text(0, 0.5, 'Count')"
      ]
     },
     "execution_count": 13,
     "metadata": {},
     "output_type": "execute_result"
    },
    {
     "data": {
      "image/png": "[encoded data removed]",
      "text/plain": [
       "<Figure size 432x288 with 1 Axes>"
      ]
     },
     "metadata": {
      "needs_background": "light"
     },
     "output_type": "display_data"
    }
   ],
   "source": [
    "df =data[data.Sex == 'male']\n",
    "sns.distplot(df['Age'],  kde=False,label='Male')\n",
    "\n",
    "df =data[data.Sex == 'female']\n",
    "sns.distplot(df['Age'],  kde=False,label='female')\n",
    "# Plot formatting\n",
    "plt.legend(prop={'size': 12})\n",
    "plt.title('Survival count')\n",
    "plt.xlabel('Age')\n",
    "plt.ylabel('Count')"
   ]
  },
  {
   "cell_type": "code",
   "execution_count": 14,
   "metadata": {
    "execution": {
     "iopub.execute_input": "2021-01-05T09:36:18.930879Z",
     "iopub.status.busy": "2021-01-05T09:36:18.930228Z",
     "iopub.status.idle": "2021-01-05T09:36:19.394840Z",
     "shell.execute_reply": "2021-01-05T09:36:19.394298Z"
    },
    "papermill": {
     "duration": 0.524875,
     "end_time": "2021-01-05T09:36:19.394956",
     "exception": false,
     "start_time": "2021-01-05T09:36:18.870081",
     "status": "completed"
    },
    "tags": []
   },
   "outputs": [
    {
     "data": {
      "text/plain": [
       "<seaborn.axisgrid.FacetGrid at 0x7f2a439d1290>"
      ]
     },
     "execution_count": 14,
     "metadata": {},
     "output_type": "execute_result"
    },
    {
     "data": {
      "image/png": "[encoded data removed]",
      "text/plain": [
       "<Figure size 514.88x158.4 with 2 Axes>"
      ]
     },
     "metadata": {
      "needs_background": "light"
     },
     "output_type": "display_data"
    }
   ],
   "source": [
    "grid = sns.FacetGrid(data, col='Survived',height=2.2, aspect=1.6)\n",
    "grid.map(plt.hist, 'Age', alpha=.5, bins=20)\n",
    "grid.add_legend()"
   ]
  },
  {
   "cell_type": "code",
   "execution_count": 15,
   "metadata": {
    "execution": {
     "iopub.execute_input": "2021-01-05T09:36:19.519085Z",
     "iopub.status.busy": "2021-01-05T09:36:19.517911Z",
     "iopub.status.idle": "2021-01-05T09:36:20.782280Z",
     "shell.execute_reply": "2021-01-05T09:36:20.782739Z"
    },
    "papermill": {
     "duration": 1.328723,
     "end_time": "2021-01-05T09:36:20.782881",
     "exception": false,
     "start_time": "2021-01-05T09:36:19.454158",
     "status": "completed"
    },
    "tags": []
   },
   "outputs": [
    {
     "data": {
      "text/plain": [
       "<seaborn.axisgrid.FacetGrid at 0x7f2a438eac10>"
      ]
     },
     "execution_count": 15,
     "metadata": {},
     "output_type": "execute_result"
    },
    {
     "data": {
      "image/png": "[encoded data removed]",
      "text/plain": [
       "<Figure size 514.88x316.8 with 4 Axes>"
      ]
     },
     "metadata": {
      "needs_background": "light"
     },
     "output_type": "display_data"
    }
   ],
   "source": [
    "grid = sns.FacetGrid(data, col='Survived',row='Sex', height=2.2, aspect=1.6)\n",
    "grid.map(plt.hist, 'Age', alpha=.5, bins=20)\n",
    "grid.add_legend()"
   ]
  },
  {
   "cell_type": "markdown",
   "metadata": {
    "papermill": {
     "duration": 0.042152,
     "end_time": "2021-01-05T09:36:20.866981",
     "exception": false,
     "start_time": "2021-01-05T09:36:20.824829",
     "status": "completed"
    },
    "tags": []
   },
   "source": [
    "## feature engineering"
   ]
  },
  {
   "cell_type": "code",
   "execution_count": 16,
   "metadata": {
    "execution": {
     "iopub.execute_input": "2021-01-05T09:36:20.962739Z",
     "iopub.status.busy": "2021-01-05T09:36:20.962056Z",
     "iopub.status.idle": "2021-01-05T09:36:20.971977Z",
     "shell.execute_reply": "2021-01-05T09:36:20.971372Z"
    },
    "papermill": {
     "duration": 0.062541,
     "end_time": "2021-01-05T09:36:20.972111",
     "exception": false,
     "start_time": "2021-01-05T09:36:20.909570",
     "status": "completed"
    },
    "tags": []
   },
   "outputs": [],
   "source": [
    "# a mix of categorical and continuous varibales makes it difficult to choose proper models\n",
    "# also the adjacent ages don't make a big difference (being 20 or 21 doesn't change much) but more the big changes in age (20 vs 80)\n",
    "# so lets categorize the age variable into 5 levels\n",
    "data['Age_band']=0\n",
    "data.loc[data['Age']<=16,'Age_band']=0\n",
    "data.loc[(data['Age']>16)&(data['Age']<=32),'Age_band']=1\n",
    "data.loc[(data['Age']>32)&(data['Age']<=48),'Age_band']=2\n",
    "data.loc[(data['Age']>48)&(data['Age']<=64),'Age_band']=3\n",
    "data.loc[data['Age']>64,'Age_band']=4"
   ]
  },
  {
   "cell_type": "code",
   "execution_count": 17,
   "metadata": {
    "execution": {
     "iopub.execute_input": "2021-01-05T09:36:21.069832Z",
     "iopub.status.busy": "2021-01-05T09:36:21.062547Z",
     "iopub.status.idle": "2021-01-05T09:36:22.543633Z",
     "shell.execute_reply": "2021-01-05T09:36:22.542925Z"
    },
    "papermill": {
     "duration": 1.529383,
     "end_time": "2021-01-05T09:36:22.543794",
     "exception": false,
     "start_time": "2021-01-05T09:36:21.014411",
     "status": "completed"
    },
    "tags": []
   },
   "outputs": [
    {
     "data": {
      "text/plain": [
       "<seaborn.axisgrid.FacetGrid at 0x7f2a43880910>"
      ]
     },
     "execution_count": 17,
     "metadata": {},
     "output_type": "execute_result"
    },
    {
     "data": {
      "image/png": "[encoded data removed]",
      "text/plain": [
       "<Figure size 1150.5x360 with 3 Axes>"
      ]
     },
     "metadata": {
      "needs_background": "light"
     },
     "output_type": "display_data"
    }
   ],
   "source": [
    "# sns.catplot(x=\"Age_band\", y=\"Survived\", row=\"Pclass\", hue='Sex', kind=\"box\", orient=\"h\", data=data)\n",
    "sns.catplot(x=\"Age_band\", y=\"Survived\", col=\"Pclass\", hue=\"Sex\", kind=\"point\", data=data)"
   ]
  },
  {
   "cell_type": "markdown",
   "metadata": {
    "papermill": {
     "duration": 0.043934,
     "end_time": "2021-01-05T09:36:22.632454",
     "exception": false,
     "start_time": "2021-01-05T09:36:22.588520",
     "status": "completed"
    },
    "tags": []
   },
   "source": [
    "we have seen previously that having siblings, parents, or children also seem to make a difference in the survival rate, \n",
    "can we make that a feature?"
   ]
  },
  {
   "cell_type": "code",
   "execution_count": 18,
   "metadata": {
    "execution": {
     "iopub.execute_input": "2021-01-05T09:36:22.731132Z",
     "iopub.status.busy": "2021-01-05T09:36:22.730395Z",
     "iopub.status.idle": "2021-01-05T09:36:22.740168Z",
     "shell.execute_reply": "2021-01-05T09:36:22.739322Z"
    },
    "papermill": {
     "duration": 0.062637,
     "end_time": "2021-01-05T09:36:22.740328",
     "exception": false,
     "start_time": "2021-01-05T09:36:22.677691",
     "status": "completed"
    },
    "tags": []
   },
   "outputs": [
    {
     "name": "stderr",
     "output_type": "stream",
     "text": [
      "/opt/conda/lib/python3.7/site-packages/pandas/core/indexing.py:670: SettingWithCopyWarning: \n",
      "A value is trying to be set on a copy of a slice from a DataFrame\n",
      "\n",
      "See the caveats in the documentation: https://pandas.pydata.org/pandas-docs/stable/user_guide/indexing.html#returning-a-view-versus-a-copy\n",
      "  iloc._setitem_with_indexer(indexer, value)\n"
     ]
    }
   ],
   "source": [
    "data['FamilySize'] = data['SibSp'] + data['Parch'] + 1\n",
    "data['IsAlone'] = 1 #initialize to yes/1 is alone\n",
    "data['IsAlone'].loc[data['FamilySize'] > 1] = 0 # now update to no/0 if family size is greater than 1"
   ]
  },
  {
   "cell_type": "code",
   "execution_count": 19,
   "metadata": {
    "execution": {
     "iopub.execute_input": "2021-01-05T09:36:22.840623Z",
     "iopub.status.busy": "2021-01-05T09:36:22.839631Z",
     "iopub.status.idle": "2021-01-05T09:36:22.843143Z",
     "shell.execute_reply": "2021-01-05T09:36:22.842614Z"
    },
    "papermill": {
     "duration": 0.056816,
     "end_time": "2021-01-05T09:36:22.843262",
     "exception": false,
     "start_time": "2021-01-05T09:36:22.786446",
     "status": "completed"
    },
    "tags": []
   },
   "outputs": [],
   "source": [
    "# turn sex into integers instead of string\n",
    "data['Sex'] = data['Sex'].map( {'female': 0, 'male': 1} ).astype(int)"
   ]
  },
  {
   "cell_type": "code",
   "execution_count": 20,
   "metadata": {
    "execution": {
     "iopub.execute_input": "2021-01-05T09:36:22.938442Z",
     "iopub.status.busy": "2021-01-05T09:36:22.937500Z",
     "iopub.status.idle": "2021-01-05T09:36:22.943558Z",
     "shell.execute_reply": "2021-01-05T09:36:22.944077Z"
    },
    "papermill": {
     "duration": 0.055383,
     "end_time": "2021-01-05T09:36:22.944248",
     "exception": false,
     "start_time": "2021-01-05T09:36:22.888865",
     "status": "completed"
    },
    "tags": []
   },
   "outputs": [
    {
     "data": {
      "text/plain": [
       "Index(['PassengerId', 'Survived', 'Pclass', 'Name', 'Sex', 'Age', 'SibSp',\n",
       "       'Parch', 'Ticket', 'Fare', 'Cabin', 'Embarked', 'Initial', 'Age_band',\n",
       "       'FamilySize', 'IsAlone'],\n",
       "      dtype='object')"
      ]
     },
     "execution_count": 20,
     "metadata": {},
     "output_type": "execute_result"
    }
   ],
   "source": [
    "data.columns"
   ]
  },
  {
   "cell_type": "code",
   "execution_count": 21,
   "metadata": {
    "execution": {
     "iopub.execute_input": "2021-01-05T09:36:23.042011Z",
     "iopub.status.busy": "2021-01-05T09:36:23.041026Z",
     "iopub.status.idle": "2021-01-05T09:36:23.276580Z",
     "shell.execute_reply": "2021-01-05T09:36:23.277247Z"
    },
    "papermill": {
     "duration": 0.288581,
     "end_time": "2021-01-05T09:36:23.277380",
     "exception": false,
     "start_time": "2021-01-05T09:36:22.988799",
     "status": "completed"
    },
    "tags": []
   },
   "outputs": [
    {
     "data": {
      "image/png": "[encoded data removed]",
      "text/plain": [
       "<Figure size 432x288 with 2 Axes>"
      ]
     },
     "metadata": {
      "needs_background": "light"
     },
     "output_type": "display_data"
    }
   ],
   "source": [
    "# drop the rest columns\n",
    "droplist = ['PassengerId', 'Name', 'Age', 'SibSp','Parch', 'Ticket', 'Fare', 'Cabin', 'Embarked', 'Initial', 'FamilySize']\n",
    "data.drop(droplist,axis=1,inplace=True)\n",
    "sns.heatmap(data.corr(),annot=True,cmap='RdYlGn')\n",
    "fig=plt.gcf()\n",
    "plt.xticks()\n",
    "plt.yticks()\n",
    "plt.show()"
   ]
  },
  {
   "cell_type": "markdown",
   "metadata": {
    "papermill": {
     "duration": 0.046182,
     "end_time": "2021-01-05T09:36:23.369995",
     "exception": false,
     "start_time": "2021-01-05T09:36:23.323813",
     "status": "completed"
    },
    "tags": []
   },
   "source": [
    "## Modeling"
   ]
  },
  {
   "cell_type": "markdown",
   "metadata": {
    "papermill": {
     "duration": 0.046644,
     "end_time": "2021-01-05T09:36:23.463031",
     "exception": false,
     "start_time": "2021-01-05T09:36:23.416387",
     "status": "completed"
    },
    "tags": []
   },
   "source": [
    "there are many different models available, here we explore 3 different models:\n",
    "* logistic regression (regression type)\n",
    "* decision tree (tree type)\n",
    "* random forest (bagging + randomize features) \\\n",
    "\\\n",
    "other models that are also applicable:\n",
    "* SVM\n",
    "* KNN/other clustering models\n",
    "* Peceptron\n",
    "* ..."
   ]
  },
  {
   "cell_type": "markdown",
   "metadata": {
    "papermill": {
     "duration": 0.04611,
     "end_time": "2021-01-05T09:36:23.555451",
     "exception": false,
     "start_time": "2021-01-05T09:36:23.509341",
     "status": "completed"
    },
    "tags": []
   },
   "source": [
    "also we should use cross_validation to make sure the fitted model performance is generalisable to test data"
   ]
  },
  {
   "cell_type": "code",
   "execution_count": 22,
   "metadata": {
    "execution": {
     "iopub.execute_input": "2021-01-05T09:36:23.652610Z",
     "iopub.status.busy": "2021-01-05T09:36:23.651991Z",
     "iopub.status.idle": "2021-01-05T09:36:24.084980Z",
     "shell.execute_reply": "2021-01-05T09:36:24.083815Z"
    },
    "papermill": {
     "duration": 0.48244,
     "end_time": "2021-01-05T09:36:24.085133",
     "exception": false,
     "start_time": "2021-01-05T09:36:23.602693",
     "status": "completed"
    },
    "tags": []
   },
   "outputs": [],
   "source": [
    "#importing all the required ML packages\n",
    "from sklearn.linear_model import LogisticRegression #logistic regression\n",
    "from sklearn.ensemble import RandomForestClassifier #Random Forest\n",
    "from sklearn.tree import DecisionTreeClassifier #Decision Tree\n",
    "from sklearn.model_selection import train_test_split #training and testing data split\n",
    "from sklearn import metrics #accuracy measure\n",
    "from sklearn.metrics import confusion_matrix #for confusion matrix\n",
    "from sklearn.model_selection import KFold #for K-fold cross validation\n",
    "from sklearn.model_selection import cross_val_score #score evaluation\n",
    "from sklearn.model_selection import cross_val_predict #prediction\n",
    "from sklearn.model_selection import GridSearchCV"
   ]
  },
  {
   "cell_type": "code",
   "execution_count": 23,
   "metadata": {
    "execution": {
     "iopub.execute_input": "2021-01-05T09:36:24.183393Z",
     "iopub.status.busy": "2021-01-05T09:36:24.182724Z",
     "iopub.status.idle": "2021-01-05T09:36:24.193128Z",
     "shell.execute_reply": "2021-01-05T09:36:24.192609Z"
    },
    "papermill": {
     "duration": 0.060786,
     "end_time": "2021-01-05T09:36:24.193250",
     "exception": false,
     "start_time": "2021-01-05T09:36:24.132464",
     "status": "completed"
    },
    "tags": []
   },
   "outputs": [
    {
     "data": {
      "text/html": [
       "<div>\n",
       "<style scoped>\n",
       "    .dataframe tbody tr th:only-of-type {\n",
       "        vertical-align: middle;\n",
       "    }\n",
       "\n",
       "    .dataframe tbody tr th {\n",
       "        vertical-align: top;\n",
       "    }\n",
       "\n",
       "    .dataframe thead th {\n",
       "        text-align: right;\n",
       "    }\n",
       "</style>\n",
       "<table border=\"1\" class=\"dataframe\">\n",
       "  <thead>\n",
       "    <tr style=\"text-align: right;\">\n",
       "      <th></th>\n",
       "      <th>Survived</th>\n",
       "      <th>Pclass</th>\n",
       "      <th>Sex</th>\n",
       "      <th>Age_band</th>\n",
       "      <th>IsAlone</th>\n",
       "    </tr>\n",
       "  </thead>\n",
       "  <tbody>\n",
       "    <tr>\n",
       "      <th>0</th>\n",
       "      <td>0</td>\n",
       "      <td>3</td>\n",
       "      <td>1</td>\n",
       "      <td>1</td>\n",
       "      <td>0</td>\n",
       "    </tr>\n",
       "    <tr>\n",
       "      <th>1</th>\n",
       "      <td>1</td>\n",
       "      <td>1</td>\n",
       "      <td>0</td>\n",
       "      <td>2</td>\n",
       "      <td>0</td>\n",
       "    </tr>\n",
       "    <tr>\n",
       "      <th>2</th>\n",
       "      <td>1</td>\n",
       "      <td>3</td>\n",
       "      <td>0</td>\n",
       "      <td>1</td>\n",
       "      <td>1</td>\n",
       "    </tr>\n",
       "    <tr>\n",
       "      <th>3</th>\n",
       "      <td>1</td>\n",
       "      <td>1</td>\n",
       "      <td>0</td>\n",
       "      <td>2</td>\n",
       "      <td>0</td>\n",
       "    </tr>\n",
       "    <tr>\n",
       "      <th>4</th>\n",
       "      <td>0</td>\n",
       "      <td>3</td>\n",
       "      <td>1</td>\n",
       "      <td>2</td>\n",
       "      <td>1</td>\n",
       "    </tr>\n",
       "  </tbody>\n",
       "</table>\n",
       "</div>"
      ],
      "text/plain": [
       "   Survived  Pclass  Sex  Age_band  IsAlone\n",
       "0         0       3    1         1        0\n",
       "1         1       1    0         2        0\n",
       "2         1       3    0         1        1\n",
       "3         1       1    0         2        0\n",
       "4         0       3    1         2        1"
      ]
     },
     "execution_count": 23,
     "metadata": {},
     "output_type": "execute_result"
    }
   ],
   "source": [
    "data.head(5)"
   ]
  },
  {
   "cell_type": "code",
   "execution_count": 24,
   "metadata": {
    "execution": {
     "iopub.execute_input": "2021-01-05T09:36:24.291438Z",
     "iopub.status.busy": "2021-01-05T09:36:24.290746Z",
     "iopub.status.idle": "2021-01-05T09:36:24.301981Z",
     "shell.execute_reply": "2021-01-05T09:36:24.302483Z"
    },
    "papermill": {
     "duration": 0.061888,
     "end_time": "2021-01-05T09:36:24.302647",
     "exception": false,
     "start_time": "2021-01-05T09:36:24.240759",
     "status": "completed"
    },
    "tags": []
   },
   "outputs": [],
   "source": [
    "train,val=train_test_split(data,test_size=0.3,random_state=42,stratify=data['Survived'])\n",
    "train_X=train[train.columns[1:]]\n",
    "train_Y=train[train.columns[:1]]\n",
    "val_X=val[val.columns[1:]]\n",
    "val_Y=val[val.columns[:1]]"
   ]
  },
  {
   "cell_type": "markdown",
   "metadata": {
    "papermill": {
     "duration": 0.047729,
     "end_time": "2021-01-05T09:36:24.398454",
     "exception": false,
     "start_time": "2021-01-05T09:36:24.350725",
     "status": "completed"
    },
    "tags": []
   },
   "source": [
    "### Logistic regression"
   ]
  },
  {
   "cell_type": "markdown",
   "metadata": {
    "papermill": {
     "duration": 0.048319,
     "end_time": "2021-01-05T09:36:24.494931",
     "exception": false,
     "start_time": "2021-01-05T09:36:24.446612",
     "status": "completed"
    },
    "tags": []
   },
   "source": [
    "The logistic regression function can be written as:\n",
    "![](https://wikimedia.org/api/rest_v1/media/math/render/svg/4a5e86f014eb1f0744e280eb0d68485cb8c0a6c3)\n",
    "This way we can keep one side as the conventional linear regression. The left side of the equation is call log-odds, or probit. \n",
    "How do we link this to the binary dependent variable (survival)? We can first reformulate the function a litte bit. By simple algebraic manipulation, the probability that Y=1 is:\n",
    "\n",
    "![](https://wikimedia.org/api/rest_v1/media/math/render/svg/11e03264d56bc270428fae2334fbf3ef11b003c2)\n",
    "\n",
    "It means with a logistic function, we can transform the linear regression output to a probability that is bounded between 0 and 1:\n",
    "![](https://res.cloudinary.com/practicaldev/image/fetch/s--yt2nSddw--/c_imagga_scale,f_auto,fl_progressive,h_420,q_auto,w_1000/https://dev-to-uploads.s3.amazonaws.com/i/l7xj9gkzufp00gt2txzu.png)\n",
    "We take 0.5 as cutoff value to turn the probility into categorical values.\n",
    "\n",
    "There are many different ways to understand logistic regression, for example, using latent variable:\n"
   ]
  },
  {
   "cell_type": "code",
   "execution_count": 25,
   "metadata": {
    "execution": {
     "iopub.execute_input": "2021-01-05T09:36:24.595818Z",
     "iopub.status.busy": "2021-01-05T09:36:24.595180Z",
     "iopub.status.idle": "2021-01-05T09:36:24.623812Z",
     "shell.execute_reply": "2021-01-05T09:36:24.624946Z"
    },
    "papermill": {
     "duration": 0.081023,
     "end_time": "2021-01-05T09:36:24.625128",
     "exception": false,
     "start_time": "2021-01-05T09:36:24.544105",
     "status": "completed"
    },
    "tags": []
   },
   "outputs": [
    {
     "name": "stdout",
     "output_type": "stream",
     "text": [
      "The accuracy of the Logistic Regression is 0.7723880597014925\n"
     ]
    },
    {
     "name": "stderr",
     "output_type": "stream",
     "text": [
      "/opt/conda/lib/python3.7/site-packages/sklearn/utils/validation.py:72: DataConversionWarning: A column-vector y was passed when a 1d array was expected. Please change the shape of y to (n_samples, ), for example using ravel().\n",
      "  return f(**kwargs)\n"
     ]
    }
   ],
   "source": [
    "# first fit a logistic regression\n",
    "model = LogisticRegression()\n",
    "model.fit(train_X,train_Y)\n",
    "prediction=model.predict(val_X)\n",
    "print('The accuracy of the Logistic Regression is',metrics.accuracy_score(prediction,val_Y))"
   ]
  },
  {
   "cell_type": "code",
   "execution_count": 26,
   "metadata": {
    "execution": {
     "iopub.execute_input": "2021-01-05T09:36:24.726214Z",
     "iopub.status.busy": "2021-01-05T09:36:24.725248Z",
     "iopub.status.idle": "2021-01-05T09:36:24.737150Z",
     "shell.execute_reply": "2021-01-05T09:36:24.737907Z"
    },
    "papermill": {
     "duration": 0.063913,
     "end_time": "2021-01-05T09:36:24.738106",
     "exception": false,
     "start_time": "2021-01-05T09:36:24.674193",
     "status": "completed"
    },
    "tags": []
   },
   "outputs": [
    {
     "name": "stderr",
     "output_type": "stream",
     "text": [
      "/opt/conda/lib/python3.7/site-packages/sklearn/model_selection/_split.py:297: FutureWarning: Setting a random_state has no effect since shuffle is False. This will raise an error in 0.24. You should leave random_state to its default (None), or set shuffle=True.\n",
      "  FutureWarning\n"
     ]
    }
   ],
   "source": [
    "# since the dataset is small, having a fixed portion of data as validation data is quite expensive\n",
    "# we use k-fold cross validation to alternate the train and validation set\n",
    "# split the data into 10 equal parts\n",
    "X=data[data.columns[1:]]\n",
    "Y=data['Survived']\n",
    "kfold = KFold(n_splits=10, random_state=22) "
   ]
  },
  {
   "cell_type": "code",
   "execution_count": 27,
   "metadata": {
    "execution": {
     "iopub.execute_input": "2021-01-05T09:36:24.846358Z",
     "iopub.status.busy": "2021-01-05T09:36:24.845228Z",
     "iopub.status.idle": "2021-01-05T09:36:24.961847Z",
     "shell.execute_reply": "2021-01-05T09:36:24.962351Z"
    },
    "papermill": {
     "duration": 0.174416,
     "end_time": "2021-01-05T09:36:24.962509",
     "exception": false,
     "start_time": "2021-01-05T09:36:24.788093",
     "status": "completed"
    },
    "tags": []
   },
   "outputs": [
    {
     "name": "stdout",
     "output_type": "stream",
     "text": [
      "The mean accuracy of the Logistic Regression under 10-fold validation is:  0.7912734082397004 std is:  0.030008415265456754\n"
     ]
    }
   ],
   "source": [
    "logistic_cv_result = cross_val_score(LogisticRegression(),X,Y, cv = kfold,scoring = \"accuracy\")\n",
    "print('The mean accuracy of the Logistic Regression under 10-fold validation is: ', np.mean(logistic_cv_result), \n",
    "      'std is: ', np.std(logistic_cv_result))"
   ]
  },
  {
   "cell_type": "markdown",
   "metadata": {
    "papermill": {
     "duration": 0.050083,
     "end_time": "2021-01-05T09:36:25.061872",
     "exception": false,
     "start_time": "2021-01-05T09:36:25.011789",
     "status": "completed"
    },
    "tags": []
   },
   "source": [
    "### decision tree"
   ]
  },
  {
   "cell_type": "markdown",
   "metadata": {
    "papermill": {
     "duration": 0.04852,
     "end_time": "2021-01-05T09:36:25.160386",
     "exception": false,
     "start_time": "2021-01-05T09:36:25.111866",
     "status": "completed"
    },
    "tags": []
   },
   "source": [
    "> ![](https://annalyzin.files.wordpress.com/2016/07/decision-trees-titanic-tutorial.png)"
   ]
  },
  {
   "cell_type": "code",
   "execution_count": 28,
   "metadata": {
    "execution": {
     "iopub.execute_input": "2021-01-05T09:36:25.261918Z",
     "iopub.status.busy": "2021-01-05T09:36:25.260921Z",
     "iopub.status.idle": "2021-01-05T09:36:25.318688Z",
     "shell.execute_reply": "2021-01-05T09:36:25.319298Z"
    },
    "papermill": {
     "duration": 0.11024,
     "end_time": "2021-01-05T09:36:25.319452",
     "exception": false,
     "start_time": "2021-01-05T09:36:25.209212",
     "status": "completed"
    },
    "tags": []
   },
   "outputs": [
    {
     "name": "stdout",
     "output_type": "stream",
     "text": [
      "The mean accuracy of the decision tree under 10-fold validation is:  0.8036079900124843 std is:  0.03923050687713403\n"
     ]
    }
   ],
   "source": [
    "# similarly we do the same to decision tree\n",
    "tree_cv_result = cross_val_score(DecisionTreeClassifier(),X,Y, cv = kfold,scoring = \"accuracy\")\n",
    "print('The mean accuracy of the decision tree under 10-fold validation is: ', np.mean(tree_cv_result), \n",
    "      'std is: ', np.std(tree_cv_result))"
   ]
  },
  {
   "cell_type": "markdown",
   "metadata": {
    "papermill": {
     "duration": 0.049055,
     "end_time": "2021-01-05T09:36:25.417705",
     "exception": false,
     "start_time": "2021-01-05T09:36:25.368650",
     "status": "completed"
    },
    "tags": []
   },
   "source": [
    "### random forest"
   ]
  },
  {
   "cell_type": "markdown",
   "metadata": {
    "papermill": {
     "duration": 0.049804,
     "end_time": "2021-01-05T09:36:25.517664",
     "exception": false,
     "start_time": "2021-01-05T09:36:25.467860",
     "status": "completed"
    },
    "tags": []
   },
   "source": [
    "![](https://i.imgur.com/AC9Bq63.png)"
   ]
  },
  {
   "cell_type": "code",
   "execution_count": 29,
   "metadata": {
    "execution": {
     "iopub.execute_input": "2021-01-05T09:36:25.625680Z",
     "iopub.status.busy": "2021-01-05T09:36:25.624539Z",
     "iopub.status.idle": "2021-01-05T09:36:27.798785Z",
     "shell.execute_reply": "2021-01-05T09:36:27.798020Z"
    },
    "papermill": {
     "duration": 2.230984,
     "end_time": "2021-01-05T09:36:27.798937",
     "exception": false,
     "start_time": "2021-01-05T09:36:25.567953",
     "status": "completed"
    },
    "tags": []
   },
   "outputs": [
    {
     "name": "stdout",
     "output_type": "stream",
     "text": [
      "The mean accuracy of the random forest under 10-fold validation is:  0.8047315855181024 std is:  0.03722554416236263\n"
     ]
    }
   ],
   "source": [
    "# random forest\n",
    "forest_cv_result = cross_val_score(RandomForestClassifier(n_estimators=100),X,Y, cv = kfold,scoring = \"accuracy\")\n",
    "print('The mean accuracy of the random forest under 10-fold validation is: ', np.mean(forest_cv_result), \n",
    "      'std is: ', np.std(forest_cv_result))"
   ]
  },
  {
   "cell_type": "code",
   "execution_count": 30,
   "metadata": {
    "execution": {
     "iopub.execute_input": "2021-01-05T09:36:27.908559Z",
     "iopub.status.busy": "2021-01-05T09:36:27.907524Z",
     "iopub.status.idle": "2021-01-05T09:37:15.414512Z",
     "shell.execute_reply": "2021-01-05T09:37:15.415095Z"
    },
    "papermill": {
     "duration": 47.564623,
     "end_time": "2021-01-05T09:37:15.415245",
     "exception": false,
     "start_time": "2021-01-05T09:36:27.850622",
     "status": "completed"
    },
    "tags": []
   },
   "outputs": [
    {
     "name": "stdout",
     "output_type": "stream",
     "text": [
      "Fitting 5 folds for each of 9 candidates, totalling 45 fits\n"
     ]
    },
    {
     "name": "stderr",
     "output_type": "stream",
     "text": [
      "[Parallel(n_jobs=1)]: Using backend SequentialBackend with 1 concurrent workers.\n",
      "[Parallel(n_jobs=1)]: Done  45 out of  45 | elapsed:   46.9s finished\n"
     ]
    },
    {
     "name": "stdout",
     "output_type": "stream",
     "text": [
      "0.8081036971941498\n",
      "RandomForestClassifier(n_estimators=300, random_state=132)\n",
      "{'n_estimators': 300}\n"
     ]
    }
   ],
   "source": [
    "# random forest has a required hyper-pqrqmers: number of trees\n",
    "# we can use cross validatio and grid search to find a good number of it\n",
    "n_estimators=range(100,1000,100)\n",
    "hyper={'n_estimators':n_estimators}\n",
    "gd=GridSearchCV(estimator=RandomForestClassifier(random_state=132),param_grid=hyper,verbose=True)\n",
    "gd.fit(X,Y)\n",
    "print(gd.best_score_)\n",
    "print(gd.best_estimator_)\n",
    "print(gd.best_params_)"
   ]
  },
  {
   "cell_type": "markdown",
   "metadata": {
    "papermill": {
     "duration": 0.051474,
     "end_time": "2021-01-05T09:37:15.518574",
     "exception": false,
     "start_time": "2021-01-05T09:37:15.467100",
     "status": "completed"
    },
    "tags": []
   },
   "source": [
    "## apply model on test data and submit"
   ]
  },
  {
   "cell_type": "code",
   "execution_count": 31,
   "metadata": {
    "execution": {
     "iopub.execute_input": "2021-01-05T09:37:15.629998Z",
     "iopub.status.busy": "2021-01-05T09:37:15.629271Z",
     "iopub.status.idle": "2021-01-05T09:37:15.652210Z",
     "shell.execute_reply": "2021-01-05T09:37:15.651650Z"
    },
    "papermill": {
     "duration": 0.082643,
     "end_time": "2021-01-05T09:37:15.652329",
     "exception": false,
     "start_time": "2021-01-05T09:37:15.569686",
     "status": "completed"
    },
    "tags": []
   },
   "outputs": [
    {
     "data": {
      "text/html": [
       "<div>\n",
       "<style scoped>\n",
       "    .dataframe tbody tr th:only-of-type {\n",
       "        vertical-align: middle;\n",
       "    }\n",
       "\n",
       "    .dataframe tbody tr th {\n",
       "        vertical-align: top;\n",
       "    }\n",
       "\n",
       "    .dataframe thead th {\n",
       "        text-align: right;\n",
       "    }\n",
       "</style>\n",
       "<table border=\"1\" class=\"dataframe\">\n",
       "  <thead>\n",
       "    <tr style=\"text-align: right;\">\n",
       "      <th></th>\n",
       "      <th>PassengerId</th>\n",
       "      <th>Pclass</th>\n",
       "      <th>Name</th>\n",
       "      <th>Sex</th>\n",
       "      <th>Age</th>\n",
       "      <th>SibSp</th>\n",
       "      <th>Parch</th>\n",
       "      <th>Ticket</th>\n",
       "      <th>Fare</th>\n",
       "      <th>Cabin</th>\n",
       "      <th>Embarked</th>\n",
       "    </tr>\n",
       "  </thead>\n",
       "  <tbody>\n",
       "    <tr>\n",
       "      <th>0</th>\n",
       "      <td>892</td>\n",
       "      <td>3</td>\n",
       "      <td>Kelly, Mr. James</td>\n",
       "      <td>male</td>\n",
       "      <td>34.5</td>\n",
       "      <td>0</td>\n",
       "      <td>0</td>\n",
       "      <td>330911</td>\n",
       "      <td>7.8292</td>\n",
       "      <td>NaN</td>\n",
       "      <td>Q</td>\n",
       "    </tr>\n",
       "    <tr>\n",
       "      <th>1</th>\n",
       "      <td>893</td>\n",
       "      <td>3</td>\n",
       "      <td>Wilkes, Mrs. James (Ellen Needs)</td>\n",
       "      <td>female</td>\n",
       "      <td>47.0</td>\n",
       "      <td>1</td>\n",
       "      <td>0</td>\n",
       "      <td>363272</td>\n",
       "      <td>7.0000</td>\n",
       "      <td>NaN</td>\n",
       "      <td>S</td>\n",
       "    </tr>\n",
       "    <tr>\n",
       "      <th>2</th>\n",
       "      <td>894</td>\n",
       "      <td>2</td>\n",
       "      <td>Myles, Mr. Thomas Francis</td>\n",
       "      <td>male</td>\n",
       "      <td>62.0</td>\n",
       "      <td>0</td>\n",
       "      <td>0</td>\n",
       "      <td>240276</td>\n",
       "      <td>9.6875</td>\n",
       "      <td>NaN</td>\n",
       "      <td>Q</td>\n",
       "    </tr>\n",
       "    <tr>\n",
       "      <th>3</th>\n",
       "      <td>895</td>\n",
       "      <td>3</td>\n",
       "      <td>Wirz, Mr. Albert</td>\n",
       "      <td>male</td>\n",
       "      <td>27.0</td>\n",
       "      <td>0</td>\n",
       "      <td>0</td>\n",
       "      <td>315154</td>\n",
       "      <td>8.6625</td>\n",
       "      <td>NaN</td>\n",
       "      <td>S</td>\n",
       "    </tr>\n",
       "    <tr>\n",
       "      <th>4</th>\n",
       "      <td>896</td>\n",
       "      <td>3</td>\n",
       "      <td>Hirvonen, Mrs. Alexander (Helga E Lindqvist)</td>\n",
       "      <td>female</td>\n",
       "      <td>22.0</td>\n",
       "      <td>1</td>\n",
       "      <td>1</td>\n",
       "      <td>3101298</td>\n",
       "      <td>12.2875</td>\n",
       "      <td>NaN</td>\n",
       "      <td>S</td>\n",
       "    </tr>\n",
       "  </tbody>\n",
       "</table>\n",
       "</div>"
      ],
      "text/plain": [
       "   PassengerId  Pclass                                          Name     Sex  \\\n",
       "0          892       3                              Kelly, Mr. James    male   \n",
       "1          893       3              Wilkes, Mrs. James (Ellen Needs)  female   \n",
       "2          894       2                     Myles, Mr. Thomas Francis    male   \n",
       "3          895       3                              Wirz, Mr. Albert    male   \n",
       "4          896       3  Hirvonen, Mrs. Alexander (Helga E Lindqvist)  female   \n",
       "\n",
       "    Age  SibSp  Parch   Ticket     Fare Cabin Embarked  \n",
       "0  34.5      0      0   330911   7.8292   NaN        Q  \n",
       "1  47.0      1      0   363272   7.0000   NaN        S  \n",
       "2  62.0      0      0   240276   9.6875   NaN        Q  \n",
       "3  27.0      0      0   315154   8.6625   NaN        S  \n",
       "4  22.0      1      1  3101298  12.2875   NaN        S  "
      ]
     },
     "execution_count": 31,
     "metadata": {},
     "output_type": "execute_result"
    }
   ],
   "source": [
    "test_data = pd.read_csv(\"/kaggle/input/titanic/test.csv\")\n",
    "test_data.head()"
   ]
  },
  {
   "cell_type": "code",
   "execution_count": 32,
   "metadata": {
    "execution": {
     "iopub.execute_input": "2021-01-05T09:37:15.780638Z",
     "iopub.status.busy": "2021-01-05T09:37:15.779885Z",
     "iopub.status.idle": "2021-01-05T09:37:15.785949Z",
     "shell.execute_reply": "2021-01-05T09:37:15.785451Z"
    },
    "papermill": {
     "duration": 0.080437,
     "end_time": "2021-01-05T09:37:15.786079",
     "exception": false,
     "start_time": "2021-01-05T09:37:15.705642",
     "status": "completed"
    },
    "tags": []
   },
   "outputs": [
    {
     "name": "stderr",
     "output_type": "stream",
     "text": [
      "/opt/conda/lib/python3.7/site-packages/pandas/core/indexing.py:670: SettingWithCopyWarning: \n",
      "A value is trying to be set on a copy of a slice from a DataFrame\n",
      "\n",
      "See the caveats in the documentation: https://pandas.pydata.org/pandas-docs/stable/user_guide/indexing.html#returning-a-view-versus-a-copy\n",
      "  iloc._setitem_with_indexer(indexer, value)\n"
     ]
    }
   ],
   "source": [
    "# formulate test data in the same way\n",
    "test_data['Sex'] = test_data['Sex'].map( {'female': 0, 'male': 1} ).astype(int)\n",
    "test_data['Age_band']=0\n",
    "test_data.loc[test_data['Age']<=16,'Age_band']=0\n",
    "test_data.loc[(test_data['Age']>16)&(test_data['Age']<=32),'Age_band']=1\n",
    "test_data.loc[(test_data['Age']>32)&(test_data['Age']<=48),'Age_band']=2\n",
    "test_data.loc[(test_data['Age']>48)&(test_data['Age']<=64),'Age_band']=3\n",
    "test_data.loc[test_data['Age']>64,'Age_band']=4\n",
    "\n",
    "test_data['FamilySize'] = test_data['SibSp'] + test_data['Parch'] + 1\n",
    "test_data['IsAlone'] = 1 #initialize to yes/1 is alone\n",
    "test_data['IsAlone'].loc[test_data['FamilySize'] > 1] = 0 # now update to no/0 if family size is greater than 1"
   ]
  },
  {
   "cell_type": "code",
   "execution_count": 33,
   "metadata": {
    "execution": {
     "iopub.execute_input": "2021-01-05T09:37:15.952669Z",
     "iopub.status.busy": "2021-01-05T09:37:15.951958Z",
     "iopub.status.idle": "2021-01-05T09:37:16.549777Z",
     "shell.execute_reply": "2021-01-05T09:37:16.549047Z"
    },
    "papermill": {
     "duration": 0.66498,
     "end_time": "2021-01-05T09:37:16.549933",
     "exception": false,
     "start_time": "2021-01-05T09:37:15.884953",
     "status": "completed"
    },
    "tags": []
   },
   "outputs": [
    {
     "name": "stdout",
     "output_type": "stream",
     "text": [
      "Your submission was successfully saved!\n"
     ]
    }
   ],
   "source": [
    "# take features\n",
    "features = [\"Pclass\", \"Sex\", \"Age_band\", \"IsAlone\"]\n",
    "X_test = pd.get_dummies(test_data[features])\n",
    "\n",
    "# first re-fit a logistic regression on all the training data\n",
    "# model = LogisticRegression()\n",
    "model = RandomForestClassifier(n_estimators=100)\n",
    "model.fit(X,Y)\n",
    "# make prediction\n",
    "predictions = model.predict(X_test)\n",
    "\n",
    "output = pd.DataFrame({'PassengerId': test_data.PassengerId, 'Survived': predictions})\n",
    "output.to_csv('my_submission.csv', index=False)\n",
    "print(\"Your submission was successfully saved!\")"
   ]
  }
 ],
 "metadata": {
  "kernelspec": {
   "display_name": "Python 3",
   "language": "python",
   "name": "python3"
  },
  "language_info": {
   "codemirror_mode": {
    "name": "ipython",
    "version": 3
   },
   "file_extension": ".py",
   "mimetype": "text/x-python",
   "name": "python",
   "nbconvert_exporter": "python",
   "pygments_lexer": "ipython3",
   "version": "3.7.6"
  },
  "papermill": {
   "duration": 67.842637,
   "end_time": "2021-01-05T09:37:17.698392",
   "environment_variables": {},
   "exception": null,
   "input_path": "__notebook__.ipynb",
   "output_path": "__notebook__.ipynb",
   "parameters": {},
   "start_time": "2021-01-05T09:36:09.855755",
   "version": "2.1.0"
  }
 },
 "nbformat": 4,
 "nbformat_minor": 4
}
